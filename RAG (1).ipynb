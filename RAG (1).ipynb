{
 "cells": [
  {
   "cell_type": "code",
   "execution_count": 79,
   "id": "8630cc6e",
   "metadata": {},
   "outputs": [],
   "source": [
    "#from langchain_community.embeddings.bedrock import BedrockEmbeddings"
   ]
  },
  {
   "cell_type": "code",
   "execution_count": 23,
   "id": "d01f6f8e",
   "metadata": {},
   "outputs": [],
   "source": [
    "import os\n",
    "import shutil\n",
    "from langchain.document_loaders.pdf import PyPDFDirectoryLoader\n",
    "from langchain_text_splitters import RecursiveCharacterTextSplitter\n",
    "from langchain.schema.document import Document\n",
    "from langchain.vectorstores.chroma import Chroma\n",
    "import hashlib\n",
    "from langchain.prompts import ChatPromptTemplate\n",
    "from langchain_community.llms.ollama import Ollama\n",
    "from langchain_community.embeddings.ollama import OllamaEmbeddings\n",
    "import random\n",
    "from datasets import load_dataset\n",
    "from langchain.schema import Document\n",
    "import time\n",
    "from evaluate import load\n",
    "import evaluate\n",
    "import csv\n",
    "\n"
   ]
  },
  {
   "cell_type": "code",
   "execution_count": 15,
   "id": "c06eee79",
   "metadata": {},
   "outputs": [
    {
     "name": "stderr",
     "output_type": "stream",
     "text": [
      "Generating train split: 100%|██████████| 960/960 [00:00<00:00, 70174.31 examples/s]\n",
      "Generating test split: 100%|██████████| 240/240 [00:00<00:00, 60378.66 examples/s]\n"
     ]
    }
   ],
   "source": [
    "ds = load_dataset(\"neural-bridge/rag-dataset-1200\")"
   ]
  },
  {
   "cell_type": "code",
   "execution_count": 9,
   "id": "5933a8ad",
   "metadata": {},
   "outputs": [],
   "source": [
    "\n",
    "DATA_PATH = \"/Users/joudi/RAG_Effectiveness/RAG_Effectiveness/data\"\n",
    "\n",
    "#CHROMA_PATH = \"/Users/joudi/Measuring_RAG_Effectiveness/database\"  \n",
    "CHROMA_PATH = \"/Users/joudi/RAG_Effectiveness/RAG_Effectiveness/database\"  \n",
    "\n",
    "#os.makedirs(CHROMA_PATH)\n",
    "\n",
    "def get_embedding_function():\n",
    "    embeddings = OllamaEmbeddings(model=\"nomic-embed-text\")\n",
    "    return embeddings"
   ]
  },
  {
   "cell_type": "code",
   "execution_count": 11,
   "id": "5f9f43b3",
   "metadata": {},
   "outputs": [
    {
     "data": {
      "text/plain": [
       "'def add_context_to_chroma(chunks):\\n    db = Chroma(\\n            persist_directory=CHROMA_PATH,\\n            embedding_function=get_embedding_function()\\n        )\\n    #chunks_with_ids = calculate_chunk_ids(chunks)\\n    for chunk in chunks:\\n        chunk.metadata[\"id\"] = generate_unique_id(chunk)  \\n\\n    existing_items = db.get(include=[])\\n    existing_ids = set(existing_items[\"ids\"])\\n    print(f\"Number of existing documents in DB: {len(existing_ids)}\")\\n\\n    new_chunks = [chunk for chunk in chunks if chunk.metadata[\"id\"] not in existing_ids]\\n\\n    if len(new_chunks):\\n        print(f\"👉 Adding new documents: {len(new_chunks)}\")\\n        batch_size = 5000\\n        for i in range(0, len(new_chunks), batch_size):\\n            batch = new_chunks[i:i + batch_size]\\n            new_chunk_ids = [chunk.metadata[\"id\"] for chunk in batch]\\n            db.add_documents(batch, ids=new_chunk_ids)\\n            db.persist()\\n        if new_chunks:\\n            db.add_documents(new_chunks, ids=new_chunk_ids)\\n            db.persist()\\n        print(\"✅ Documents successfully added and persisted.\")\\n    else:\\n        print(\"✅ No new documents to add\")'"
      ]
     },
     "execution_count": 11,
     "metadata": {},
     "output_type": "execute_result"
    }
   ],
   "source": [
    "def load_documents():\n",
    "    document_loader = PyPDFDirectoryLoader(DATA_PATH)\n",
    "    return document_loader.load()\n",
    "\n",
    "def split_documents(documents):\n",
    "    text_splitter = RecursiveCharacterTextSplitter(\n",
    "        chunk_size=512,\n",
    "        chunk_overlap=30,\n",
    "        length_function=len,\n",
    "        is_separator_regex=False,\n",
    "    )\n",
    "    return text_splitter.split_documents(documents)\n",
    "\n",
    "\"\"\"def calculate_chunk_ids(chunks):\n",
    "    for chunk in chunks:\n",
    "        source = chunk.metadata.get(\"source\", \"unknown_source\")\n",
    "        page = chunk.metadata.get(\"page\", \"unknown_page\")\n",
    "        content_hash = hashlib.md5(chunk.page_content.encode(\"utf-8\")).hexdigest()\n",
    "        \n",
    "        # Create a unique ID using source, page, and a hash of the content\n",
    "        chunk_id = f\"{source}:{page}:{content_hash}\"\n",
    "        chunk.metadata[\"id\"] = chunk_id\n",
    "\n",
    "    return chunks\"\"\"\n",
    "\n",
    "def clear_database():\n",
    "    if os.path.exists(CHROMA_PATH):\n",
    "        shutil.rmtree(CHROMA_PATH)\n",
    "\n",
    "def generate_unique_id(chunk):\n",
    "    # Use current timestamp (in milliseconds) for uniqueness\n",
    "    timestamp = str(int(time.time() * 1000))  # Current timestamp in milliseconds\n",
    "    \n",
    "    # Generate a random number to ensure uniqueness\n",
    "    random_number = random.randint(100000, 999999)\n",
    "\n",
    "    # use document content or metadata to make the ID more unique\n",
    "    content_hash = hashlib.md5(chunk.page_content.encode('utf-8')).hexdigest()[:8]  # First 8 chars of MD5 hash\n",
    "    \n",
    "    # Create a unique ID combining the timestamp and content hash\n",
    "    unique_id = f\"{timestamp}_{content_hash}_{random_number}\"\n",
    "    \n",
    "    return unique_id\n",
    "\n",
    "\n",
    "\"\"\"def add_doc_to_chroma(chunks):\n",
    "    db = Chroma(\n",
    "        persist_directory=CHROMA_PATH,\n",
    "        embedding_function=get_embedding_function()\n",
    "    )\n",
    "    chunks_with_ids = calculate_chunk_ids(chunks)\n",
    "\n",
    "    existing_items = db.get(include=[])\n",
    "    existing_ids = set(existing_items[\"ids\"])\n",
    "    print(f\"Number of existing documents in DB: {len(existing_ids)}\")\n",
    "\n",
    "    new_chunks = [chunk for chunk in chunks_with_ids if chunk.metadata[\"id\"] not in existing_ids]\n",
    "\n",
    "    if len(new_chunks):\n",
    "        print(f\"👉 Adding new documents: {len(new_chunks)}\")\n",
    "        new_chunk_ids = [chunk.metadata[\"id\"] for chunk in new_chunks]\n",
    "        db.add_documents(new_chunks, ids=new_chunk_ids)\n",
    "        db.persist()\n",
    "        if new_chunks:\n",
    "            db.add_documents(new_chunks, ids=new_chunk_ids)\n",
    "            db.persist()\n",
    "        print(\"✅ Documents successfully added and persisted.\")\n",
    "    else:\n",
    "        print(\"✅ No new documents to add\")\"\"\"\n",
    "\n",
    "def check_num_in_DB(path):\n",
    "    try:\n",
    "        # Load the existing database\n",
    "        db = Chroma(persist_directory=path, embedding_function=get_embedding_function())\n",
    "        existing_items = db.get(include=[])  # Fetch existing document metadata (IDs are always included)\n",
    "        num_existing = len(existing_items[\"ids\"])\n",
    "        print(f\"📊 Number of existing documents in DB: {num_existing}\")\n",
    "        return num_existing\n",
    "    except Exception as e:\n",
    "        print(f\"❌ Error checking existing documents: {e}\")\n",
    "        return 0\n",
    "\n",
    "#for context from DataSet\n",
    "def get_context(ds):\n",
    "    train_chunks = []\n",
    "    test_chunks = []\n",
    "    for context in ds[\"train\"][\"context\"]:\n",
    "        # Convert context string to Document object\n",
    "        document = Document(page_content=context)\n",
    "        # Split the document into smaller chunks\n",
    "        chunked_documents = split_documents([document])\n",
    "        # Add the chunked documents to the train_chunks list\n",
    "        train_chunks.extend(chunked_documents)\n",
    "\n",
    "    # Iterate over the test context data\n",
    "    for context in ds[\"test\"][\"context\"]:\n",
    "        # Convert context string to Document object\n",
    "        document = Document(page_content=context)\n",
    "        # Split the document into smaller chunks\n",
    "        chunked_documents = split_documents([document])\n",
    "        # Add the chunked documents to the test_chunks list\n",
    "        test_chunks.extend(chunked_documents)\n",
    "\n",
    "    return train_chunks, test_chunks\n",
    "\n",
    "def add_context_to_chroma(chunks):\n",
    "    db = Chroma(\n",
    "        persist_directory=CHROMA_PATH,\n",
    "        embedding_function=get_embedding_function()\n",
    "    )\n",
    "    \n",
    "    # Assign unique IDs to chunks\n",
    "    for chunk in chunks:\n",
    "        chunk.metadata[\"id\"] = generate_unique_id(chunk)\n",
    "    \n",
    "    # Check if the number of new chunks is equal to the number of generated IDs\n",
    "    # this is to extract the IDs we added and check if they already exist\n",
    "    new_chunk_ids = [chunk.metadata[\"id\"] for chunk in chunks]\n",
    "    \n",
    "    print(f\"Number of chunks: {len(chunks)}\")\n",
    "    print(f\"Number of chunk IDs: {len(new_chunk_ids)}\")\n",
    "    \n",
    "    existing_items = db.get(include=[])\n",
    "    existing_ids = set(existing_items[\"ids\"])\n",
    "    print(f\"Number of existing documents in DB: {len(existing_ids)}\")\n",
    "\n",
    "    # filter out duplicates to avoid failures :')\n",
    "    new_chunks = [chunk for chunk in chunks if chunk.metadata[\"id\"] not in existing_ids]\n",
    "\n",
    "    if len(new_chunks):\n",
    "        print(f\"👉 Adding new documents: {len(new_chunks)}\")\n",
    "        batch_size = 5000\n",
    "        for i in range(0, len(new_chunks), batch_size):\n",
    "            batch = new_chunks[i:i + batch_size]\n",
    "            batch_ids = [chunk.metadata[\"id\"] for chunk in batch]\n",
    "            print(f\"Adding batch with {len(batch)} documents and {len(batch_ids)} IDs\")\n",
    "            db.add_documents(batch, ids=batch_ids)\n",
    "            db.persist()\n",
    "        print(\"✅ Documents successfully added and persisted.\")\n",
    "    else:\n",
    "        print(\"✅ No new documents to add\")\n",
    "\n",
    "\"\"\"def add_context_to_chroma(chunks):\n",
    "    db = Chroma(\n",
    "            persist_directory=CHROMA_PATH,\n",
    "            embedding_function=get_embedding_function()\n",
    "        )\n",
    "    #chunks_with_ids = calculate_chunk_ids(chunks)\n",
    "    for chunk in chunks:\n",
    "        chunk.metadata[\"id\"] = generate_unique_id(chunk)  \n",
    "\n",
    "    existing_items = db.get(include=[])\n",
    "    existing_ids = set(existing_items[\"ids\"])\n",
    "    print(f\"Number of existing documents in DB: {len(existing_ids)}\")\n",
    "\n",
    "    new_chunks = [chunk for chunk in chunks if chunk.metadata[\"id\"] not in existing_ids]\n",
    "\n",
    "    if len(new_chunks):\n",
    "        print(f\"👉 Adding new documents: {len(new_chunks)}\")\n",
    "        batch_size = 5000\n",
    "        for i in range(0, len(new_chunks), batch_size):\n",
    "            batch = new_chunks[i:i + batch_size]\n",
    "            new_chunk_ids = [chunk.metadata[\"id\"] for chunk in batch]\n",
    "            db.add_documents(batch, ids=new_chunk_ids)\n",
    "            db.persist()\n",
    "        if new_chunks:\n",
    "            db.add_documents(new_chunks, ids=new_chunk_ids)\n",
    "            db.persist()\n",
    "        print(\"✅ Documents successfully added and persisted.\")\n",
    "    else:\n",
    "        print(\"✅ No new documents to add\")\"\"\"\n",
    "\n",
    "\n"
   ]
  },
  {
   "cell_type": "code",
   "execution_count": 92,
   "id": "ba7cbd77",
   "metadata": {},
   "outputs": [],
   "source": [
    "#clear_database()"
   ]
  },
  {
   "cell_type": "code",
   "execution_count": 12,
   "id": "919bbeec",
   "metadata": {},
   "outputs": [
    {
     "name": "stdout",
     "output_type": "stream",
     "text": [
      "📊 Number of existing documents in DB: 11435\n"
     ]
    },
    {
     "data": {
      "text/plain": [
       "11435"
      ]
     },
     "execution_count": 12,
     "metadata": {},
     "output_type": "execute_result"
    }
   ],
   "source": [
    "#documents = load_documents()\n",
    "#chunks = split_documents(documents)\n",
    "#add_to_chroma(chunks)\n",
    "#train_chunk, test_chunk = get_context(ds)\n",
    "#add_context_to_chroma(train_chunk)\n",
    "#add_context_to_chroma(test_chunk)\n",
    "check_num_in_DB(CHROMA_PATH)\n",
    "\n"
   ]
  },
  {
   "cell_type": "code",
   "execution_count": 13,
   "id": "6ab3b582",
   "metadata": {},
   "outputs": [],
   "source": [
    "\n",
    "PROMPT_TEMPLATE = \"\"\"\n",
    "Use the context below to answer the question concisely. If the context is not sufficient, state that.\n",
    "\n",
    "Context:\n",
    "{context}\n",
    "\n",
    "Question:\n",
    "{question}\n",
    "\"\"\"\n"
   ]
  },
  {
   "cell_type": "code",
   "execution_count": 7,
   "id": "5eb4af96",
   "metadata": {},
   "outputs": [
    {
     "name": "stdout",
     "output_type": "stream",
     "text": [
      "DatasetDict({\n",
      "    train: Dataset({\n",
      "        features: ['context', 'question', 'answer'],\n",
      "        num_rows: 960\n",
      "    })\n",
      "    test: Dataset({\n",
      "        features: ['context', 'question', 'answer'],\n",
      "        num_rows: 240\n",
      "    })\n",
      "})\n"
     ]
    }
   ],
   "source": [
    "print(ds)"
   ]
  },
  {
   "cell_type": "code",
   "execution_count": 33,
   "id": "87b87821",
   "metadata": {},
   "outputs": [
    {
     "name": "stdout",
     "output_type": "stream",
     "text": [
      "['The KI Work Environment and Health Award consists of a certificate and 30 000 SEK, to use for further joint activities in the workplace to promote health at work. The prize winner may be an employee/co-worker, a manager, a team, a workplace or a department/equivalent.', \"The ideal spin serve will, if given the chance, bounce twice on the opponent's side of the table, with the second bounce as close to the endline as possible.\", 'The different bat options mentioned are Player Edition, Signature, and Reserve.', \"Some common problems that can damage a roof include the sun's UV rays causing deterioration, snow and ice causing leaks, strong gusts of wind tearing off shingles, overhanging tree limbs rubbing against the roof, birds and small wildlife creating holes, insects chewing at fascia boards and eaves, faulty flashing allowing water to seep in, clogged gutters causing water backup, poorly ventilated attics causing shingles to dry out and become brittle, and lack of roof maintenance leading to significant roof damage.\", 'Gwendolyn Cuff alleged that she was discharged by IBM for the purpose of depriving her of IBM employee benefits in violation of section 510 of the Employee Retirement Income Security Act (\"ERISA\"), 29 U.S.C. § 1140.', 'The Farmer family got the idea to adopt from China by attending a Steven Curtis Chapman concert.', \"The consequence of a DUI in terms of car insurance according to Nevada laws is that it can lead to the loss of one's license.\", \"In Salem, Massachusetts, visitors can stay at the pet-friendly Salem Inn or the Morning Glory Bed and Breakfast. They can dine on lobster rolls and clam chowder at Lobster Shanty or have crab fritters and pear salad at Rockafellas. Attractions include the Salem Witch Memorial, the grand Custom House, the House of the Seven Gables, and the Peabody Essex Museum. Visitors can also explore the town's architecture, visit the nation’s oldest confectionery, Ye Olde Pepper Candy Companie, and the pre-1700 Witch House. At midnight, they can take a walk to the common where the witches were hanged.\", 'Sissyboy_D turns on the vacuum cleaner and uses it to pleasure herself.', 'The arrow keys move the ship, x is fire, c is dash, z lets you cycle between available consumables and space activates the chosen consumable.', 'The NCUA has encouraged federally chartered credit unions to offer “payday alternative loans,” which generally have a longer term than traditional payday products.', 'Premiere Pro is available only on a subscription basis (monthly payments or maybe also yearly payments) whereas Premiere Elements involves a one time purchase of the license.', 'L Glutamine is an essential amino acid that aids in muscle recovery and building muscle. It is also used in the post workout recovery process to manage muscle damage from intense training. When the body is stressed, training at a high level, or undernourished, it may not produce enough L glutamine, and additional L Glutamine may be required to maintain normal levels. It is an energy source that helps build and maintain muscle mass and may inhibit fat storage. By maintaining healthy levels of L Glutamine, cells can maintain optimum hydration, protecting muscles and the immune system from injury during and after exercise.', \"The head coach of Scio High's football team is Kyle Braa and his record is 78-16 overall with six league championships and a pair of 2A state titles.\", \"The main characters in the game Pier Solar and the Great Architects are Hoston, a young botanist, Alina and Edessot. They are on a quest to find a cure for Hoston’s father's mysterious illness.\", 'Some of the activities mentioned in the context include having sex, masterbating, giving massage, and looking for encounter.', 'Dominguez Sheet Metal Works Inc provides all types of metal fabrications, including stainless steel, copper and aluminum. It also operates an extensive welding shop.', 'The camera has a CCD sensor with 13.8 Megapixels and light sensitivity of 1,600 ISO. It has an LCD screen of size 2.7\" and a resolution of 230k dots. The lens has a zoom of 8x, with a wide angle of 25 mm and a telephoto of 200 mm. The camera weighs 129 g and does not have interchangeable lenses. It supports video format of 720p @ 30fps and has a built-in flash. The storage supports formats like SD, SDXC, and SDHC.', 'The Klean Kanteen water bottle is durable, convenient to use, and affordable. It has a medium-diameter mouth and a sport top for comfortable drinking. It also has a narrower design compared to the standard Nalgene. The bottle performed well in drop tests with minimal damage and ranked second for cold water insulation tests and third for hot water.', 'Some of the new video game releases in the week of November 5, 2017 include Horizon Zero Dawn: The Frozen Wilds, Sonic Forces, Super Lucky’s Tale, Mario Party: The Top 100, and Need for Speed Payback. Other releases include Doom for Switch, Nioh: Complete Edition, Snipperclips Plus – Cut it out, together!, and Wuppo.', 'The most common types of spare parts you can find inside mobile phones handsets are Battery, Battery Connector, Antenna, LCD, LCD Frame, Camera Module, Plug-in Connector, Flex Cable Wires, Navigator/Joystick/Trackball, Touch Screen Panel, Microphone, Speaker, Buzzer/Ringer, Keypad Membrane, Simcard Connector, On/Off Switch, Vibrator, Back Housing, and Housing.', 'There are 461,181 sites with a better three-month global Alexa traffic rank than Klausenerplatz-kiez.de.', \"Mr. Chalmers' special rub for the chuck roasts included salt, cayenne, dried oregano, and sliced garlic.\", 'The purpose of the online program \"Exhale: Mindfully Manage your IPF\" is to provide resources to help people with Idiopathic Pulmonary Fibrosis (IPF) take a proactive role in their care. It features mindfulness videos to help manage emotions often experienced by people with IPF such as anxiety, frustration, and isolation.', 'The main actors in \"The Last King of Scotland\" are Gillian Anderson, Forest Whitaker, James McAvoy, David Oyelowo, Kerry Washington, and Simon McBurney. The movie is about a Scottish doctor who becomes the personal physician of Ugandan dictator Idi Amin in the 1970s. The doctor is initially unaware of Amin\\'s insanity and viciousness, but once he realizes, he is appalled that he\\'s aiding the tyrant.', 'The plaintiff, Destin M. Miller, alleges that she was beaten and knocked unconscious by San Diego Community College District police officers on October 27, 2008. She further alleges that she suffered injuries that required hospitalization and treatment, and incurred substantial medical bills as a result of this incident.', 'The Ask Questions command in PowerPivot in Excel 2010 is a feature that, when clicked, opens your web browser and takes you to the PowerPivot Help forums on the Microsoft website.', 'Due to the increased demand of the residential apartments, home loans are easily approved for them, and buyers are keener to buy these over the other types of real estate options.', 'The graduate from The University of Texas at Austin earned a degree in chemical engineering.', \"The company's operating philosophy is 'people over profit'.\", 'The major consequence of the cyber-attack on Sony Pictures Entertainment was the exposure of confidential information of business practices, employee pay disparities and personal data, unpublished scripts, sensitive contracts, and personal feuds between actors and executives. This could potentially damage the Hollywood studio for years to come.', 'The following expenditures by one spouse, without the permission of the other spouse, have been found to constitute community waste: gambling; a failure to make mortgage or tax payments resulting in a foreclosure; alcohol- and drug-related expenses; and expenses incurred in furthering extramarital affairs.', 'The popularity of TeamViewer is 100%.', 'Clams Casino is a clam “on the halfshell” dish that originated in Rhode Island.', 'The two types of fiction blogs mentioned are those that belong to a specific character and those that follow a particular story or plot.', 'The common meaning of the phrase \"Τί ἐμοὶ καὶ σοί\" in the Bible is a complaint, questioning \"What have I done to you that you are causing me trouble unjustly? Why are you trying to bring disaster on me? Did I wrong you?\" or \"What do you have against me?\".', 'The base charge for taxi usage from Faro Airport is euro5.', \"The traveler had a challenging experience at the airport and during the flight. The airport computers were malfunctioning which resulted in a long wait in the hot sun to get to the ticket counter. The traveler was given a hand written ticket for the bag and forgot the carry-on at the ticket counter. The flight, which was supposed to be 3 hours, took 5 hours. The plane had no food, only water was available and watching a movie cost $8. Upon arrival in Chicago, over half the plane had missed their connections. The traveler's bag was not in Chicago and had to wait in another long line to confirm this. United provided a toothbrush, toothpaste, a hotel stay and food vouchers. The next morning's flight was super bumpy and the traveler sat next to a drunk passenger. However, the traveler's bag was one of the first to arrive in Denver.\", 'GoBongo provides Campervan Hire in Wales.', 'The results of the hypnotherapy sessions were positive for the individuals mentioned in the context. One person was able to overcome a crippling phobia of spiders and can now calmly catch and remove a spider. Another person was able to overcome their fear of dentists and successfully underwent dental procedures without sedation. A third person was able to quit smoking after a single session and has not had any desire to smoke since. The last person was able to overcome many fears and phobias that were affecting their personal and professional life, improving their quality of life significantly.', \"The sequence of events began when Henry Brown hid in his estranged wife's trunk until she left the restaurant. Upon leaving the restaurant, Chericia was attacked and stabbed multiple times by Henry. After the attack, Henry changed vehicles and picked up his two children from the babysitter. He then headed to Central Florida Regional Hospital in search of his wife, and opened fire on law enforcement and security personnel in an attempt to flee. He was later discovered by police near the Seminole-Volusia county line. Upon closing in to arrest him, they found him as well as his two children dead inside. Investigators believe Brown killed his children at some point after picking them up, then committed suicide while police prepared to apprehend him. Chericia died at the hospital from her injuries.\", 'A 42-year-old woman from Vientiane province has become the first person to die from avian influenza in Laos.', 'A wise man will make more opportunities than he finds.', 'The top challenges to achieving their mobility goals are security concerns (67%), determining ROI (32%), a lack of funds (29%), reaching Bring your own device (BYOD) policy, contracted or unmanaged devices (26%), and a lack of management tools (23%).', 'The Bosch number for the improved type 2 WOT switch as indicated by Scott Mockry is 0 280 120 308.', 'The NOISE Dream Jobs initiative was launched by the Chancellor of the Exchequer, Alistair Darling.', \"The author wrote the email because they couldn't find any elegant solution to a piece of code they saw in AXD301 sources.\", \"Mikol Blake-Green, a native of Boston and a 6-foot-7 forward, has been playing for Fisher College. His journey has been marked by obstacles and challenges, including witnessing violence in his community and dealing with anxiety. Despite these hardships, Mikol found solace in sports and took on extra responsibilities, helping his mother and taking care of his relatives. After graduating from high school, he enrolled at Bunker Hill Community College where he met two mentors, Coach Nkrumah Jones and Leroy Gibson, who helped him grow both on and off the court. When his mother got a job offer in Baltimore, Mikol decided to stay in Massachusetts and later attended Daniel Webster College in New Hampshire. However, after facing racial profiling and the school's shutdown, he moved to Fisher College in Massachusetts, where he hopes to become a coach after his playing days are over.\", 'Friki Tricks was developed by W3 Software.', 'Professor Dereje Agonafer is the recipient of the 2009 InterPACK Excellence Award.', 'Some methods to safely and completely remove files/folders from a Linux system include using Secure-Delete, Shred, dd, and Wipe. Secure-Delete is a set of tools that provide advanced techniques for permanent removal of files. Shred destroys files/folder’s contents in a way that it is impossible to recover. The dd command is originally used for Disk Cloning but is also used for securely wiping out the contents of a hard disk or partitions. Wipe was originally developed to securely erase files from magnetic media.', 'Students prepare for important communication activities such as writing various types of documents (e.g., emails, memos, problem analyses, proposals, progress reports), giving oral presentations, and incorporating graphics in both their oral and written work.', 'If a new fence is not stored properly before processing, various problems may appear on the pipe surface such as white powder, rust, and so on. Although these can be handled with grinding and pickling steps, it will add to the later production sector burden, indirectly increasing production costs.', 'The farmers in Greenland are facing challenges due to changing weather conditions. The summers have been horribly dry for months, causing drought and malnourishment in livestock due to lack of pastures. The average animal in the flock in the summer of 2015 was 2 to 4 pounds lighter than normal. Hot summers over the past decade have cost farmers thousands of dollars in losses. The number of sheep farmers in Greenland has fallen from 74 in 1983 to about 37 farms today. To compensate, farmers try to irrigate their pastures and hayfields, and they purchase animal feed to supplement the hay in the winter time. Severe drought has struck Greenland in two of the past five years and recently published research suggests the trend may continue because of large scale changes in Arctic weather systems.', 'Cincinnati.', 'They saw the loophole in the industry and tried to come up with the solution. They simply took advantage of the system.', 'Some methods to get leads for the IPAS2 system include Facebook posting and interaction or prospecting, Facebook PPC, YouTube promotion, SEO and your blog, and the IPAS2 Traffic Coop.', 'The main theme of the ID Fest film festival in 2010 is the notion of English identity.', 'Kate has not been showing any outward signs of anything relating to her muscle loss. Her shoulders still feel thin but it seems like she has gained some bicep back. She also had a hard lump/growth/something on one of her toes.', 'The author of the \"10 Things Your Commencement Speaker Won\\'t Tell You\" piece from the Wall Street Journal is Charles Wheelan.', 'He himself bore our sins in his body on the tree.', 'The movie \"Wassup Rockers\" is partially based on the real lives of its actors, who are young Latino skateboarders from Los Angeles’ South Central ghetto. The first half of the film reflects their lives in South Central, and all those stories are their stories. The second half of the film is made up by the director.', 'It is preferable to avoid the use of Diflucan during pregnancy as it possesses teratogenic and embryotoxic effect to the fetus.', \"The central insight of Denis MacEoin's article is that the Báb's ministry was a jest.\", 'The four categories into which worldwide spending on robots is split are military, industrial, commercial, and personal.', 'Kids can learn about farm animals, farmers, tractors, fall produce and scarecrows through the mentioned farm crafts and activities.', '\"A mensa et thoro\" is a legal Latin phrase which means \"from table and bed\", typically translated as \"from bed and board\", in which \"board\" is a term for \"table\". It refers to a separation that is sanctioned by a court order, meaning that the spouses may legally live apart, but they are still legally married.', 'The person got their new jeans from Target.', 'Fred Hill, Jr. is set to replace Gary Waters as the coach of the Scarlet Knights.', 'When a list item is tapped in the 2gether android system, an AlertDialog is displayed that the user can use to either edit the task or delete it.', 'The two towns in Karnataka that are named after Tirupathi and have the same deity are Bangaru Tirupati and Chikka Tirupathi.', 'A custom maternity tee plays a surprisingly necessary role in providing proper help for the lower back during pregnancy.', 'Rocket Launchers have several disadvantages in combat such as they hurt both allies and enemies, they have a maximum of 2 ammo, and they are loud which can draw enemies to the source of the noise.', 'Self-endorsement skills are essential for our well-being as they help us add sufficient emotion to intelligence to override the established action pathways of instinct and tradition. They make us emotionally whole, reducing our dependence on others for our well-being. Self-endorsement skills also help us assume responsibility to make our life’s experience joyous and meaningful, serving as a role model for our loved ones. They are the antidote for the more common nonproductive self-putdown skills we learn.', 'The main goal was to give the user a clear and functional overview of all the content.', 'The context discusses that charity can sometimes exacerbate problems rather than solve them. It can delay permanent infrastructure and job development, and in some cases, it can lead to mismanagement of funds. The context also mentions the situation in Haiti where an influx of donated rice and solar panels disrupted local businesses, making the local economy dependent on foreign aid. This is described as unsustainable and unethical. Furthermore, charity can also allow companies to overlook problems in their supply chain or company culture, as they can claim responsibility through their charitable actions.', 'Gay people were given the right to same sex marriage in the UK on March 29th 2014.', \"The two players from Seattle Reign FC included in the U.S. WNT's 23-player roster for the 2015 FIFA Women’s World Cup are goalkeeper Hope Solo and midfielder Megan Rapinoe.\", '126 storage facilities are shown within 45 miles of the 77433, Cypress storage search query.', 'She is a lady doctor, Medical college and hospital trainee.', 'The Honorary Managing Director of Centre for Cyber Victim Counselling (CCVC) is Dr. Debarati Halder. She holds a PhD degree from the National Law School of India University (NLSIU), Bangalore, India, an LLB from the University of Calcutta, and a master’s degree in international and constitutional law from the University of Madras. Her research interests include constitutional law, international law, victim rights, cyber crimes and laws.', \"When designing a patio layout, some elements to consider include the right shape for a new patio based on function, the placement of the patio, creating backyard destinations, and landscape ideas and suggestions. It's also important to consider the materials for the patio, such as concrete, paving stones, or wood.\", 'Friendster announced that all user profile data, photos, messages, testimonials, blogs, groups, shoutouts, friends list and comments would be deleted on May 31, 2011. They also mentioned that they would introduce a new and improved Friendster site in the coming weeks, focusing more on entertainment and fun social networking. Existing login details would be preserved, new features would be added, and unnecessary features would be deleted for the new Friendster Beta version.', 'The new Vice Chancellor plans to introduce a whole raft of new innovations, which includes exploring new ways of distributing course materials, creating a better contact point between the students and the administration, introducing more student-based input on the study centres, and decentralizing examination processing to reduce incidences of missing results.', 'The author believes that even a little pornography is harmful and equates it to poison for the soul. They argue that pornography is a sin that separates us from God and can lead to the destruction of various areas of life if not confronted and dealt with.', 'Shirley Lenora Rost was born on Oct. 20, 1938 in West Plains, Mo.', 'The preferred qualifications include a Bachelor, Master or Doctorate of Science degree from an accredited course of study, in engineering, computer science, mathematics, physics or chemistry, with ABET being the preferred accreditation standard. Applicants should have a 3.0 or greater cumulative grade point average on a 4.0 scale and degrees in Electrical Engineering and/or Computer Engineering with relevant electrical engineering experience or coursework. At least 2 semesters/quarters of college level Physics and Mathematics coursework including both Calculus and Differential Equations is required. This position also requires an active (or ability to obtain) U.S. Security Clearance, for which the US Government requires US Citizenship.', \"The 'play' was actually a fund raiser for the war effort (WWI) - more of a pageant to honour the various Queens and to crown the top money maker.\", \"A Concours d'Elegance is different from a car show or a cruise-in, as it features a more consistent showing of quality original and restoration vehicles presented for more intense judging. Concours events often require participants to be members of the sponsoring club or organization or to submit entry paperwork well in advance. Cars on display at a concours are by invitation only, and are often the best examples available. On the other hand, car shows and cruise-ins are more casual events where car enthusiasts can display their vehicles, with cruise-ins being the most recommended for first-time participants.\", 'A few improvements Toyota introduced to the Innova were the addition of an intercooler in 2009, a minor facelift in 2011, and a second minor facelift in 2014.', \"The three types of personal selling techniques are Order Takers who only responds to the company's already committed/ loyal buyers, Order Creators who don't directly receive any order from the buyers but they persuade and encourage the channel members to push their products to their prospects, and Order Getters who are front line sales person who persuades the customers to make direct purchases.\", 'The author is feeling worn out due to the ups and downs at work and their new workout regimen at home.', 'Wall Street analysts expect The Medicines Company to announce earnings of ($1.48) per share for the current quarter.', \"In the United States of America, driver's licenses are issued by each individual state, territories, and the federal district rather than by the federal government.\", 'The movie Rush was directed by Ron Howard.', 'Christopher Jones holds an M.S. in Renewable Natural Resources from the University of Arizona, 1995 and a B.S. in Forestry from Northern Arizona University, 1988.', \"The theme of the month's box was Myths and Monsters and the first item taken out of it was a set of fairylights in the shape of unicorns and rainbows.\", 'The recent remake of Alice in Wonderland was directed by Tim Burton.', 'The artist is considering submitting their \\'wrinkled\\' vessel to the \"500 Felt Objects\" book.', 'The first wrestler to get his opponent to step outside the ring or touch the ground with anything but his feet wins the bout.']\n"
     ]
    }
   ],
   "source": [
    "answers = []\n",
    "n_questions = 100\n",
    "random.seed(11)\n",
    "\n",
    "# get the train answers provided from the dataset\n",
    "for answer in ds[\"train\"][\"answer\"]:\n",
    "    answers.append(answer)\n",
    "\n",
    "random.shuffle(answers)\n",
    "answers = answers[:n_questions]\n",
    "print(answers)"
   ]
  },
  {
   "cell_type": "code",
   "execution_count": 17,
   "id": "47e1edfb",
   "metadata": {},
   "outputs": [
    {
     "name": "stdout",
     "output_type": "stream",
     "text": [
      "['Who is the author of the Fortran 90 version of 99 bottles of beer?', 'What was the alternative suggested by reader zosima for fixed-term patents?', 'Who became the first reigning MVP in history to score 40 or more points on opening night?', \"What are some of the positive aspects of Rula's notary public service as mentioned in the reviews?\", 'What is the effect of protease supplementation on the growth performance and gut health of nursery piglets fed with soybean meal?', 'What items did the person order for their project?', 'What is the purpose of the Music Coope?', 'Who was the man that Jeffery Roberson shot and where was the victim found?', 'What is one of the ways China has helped boost agricultural production in Africa?', 'Who is set to replace Gary Waters as the coach of the Scarlet Knights?', 'What are the qualities that ripped, distressed jeans show according to the context?', 'What motivated the author to try a new meatloaf recipe as an adult?', 'What are some of the benefits of applying the designs from the Table Lamp Harp picture collection to your household?', 'How was the suspect in the fatal stabbing outside a Seattle nightclub identified?', 'What are some of the benefits of using an automated trading system in Forex markets?', \"What was Charles “Chuck” Edelstein's role in reducing jail population?\", \"What is the concern of many Lebanese people regarding Mahmoud Ahmadinejad's first state visit to Lebanon?\", \"Who is the head coach of Scio High's football team and what is his record?\", 'What is the spawning setting for the Golden Goose in the ARIS game?', 'What is the impact of paying off a mortgage on home insurance premiums?', 'What is the \"Ten Items or Less\" Rule in the game context described?', 'What is the purpose of a Gazebo on a patio according to the context?', 'What is the general expectation regarding who pays child support in Texas?', \"When did the tracking of 송진우's Twitter profile start?\", \"What changes can Netflix customers expect after the company's decision to split its disc and streaming operations?\", 'Who is the author of the book \"How to Be Black\"?', 'What are some effective home remedies to treat sciatica?', 'What were the objectives of the study conducted by Stefania Martignon, Gloria Bautista-Mendoza, María Clara González-Carrera, Gloria Lafaurie-Villamil, Veicy Morales, Ruth M Santamaría in 2008?', \"What were the circumstances surrounding Eric Garner's death?\", 'What are the amenities and services provided by The James Hotel?', 'What materials are needed to make an easy tote bag?', 'What factors can influence the number of guitar lessons a person might need?', 'What is the purpose of the new bit retention system developed for the ROK 500DH hammer?', 'Who founded Haynes Park Capital, LLC and when was it established?', \"Who does Shayne's brother want to go out with?\", \"What is the author's opinion about the Winsor report's impact on police officers?\", 'What is the process to prepare Baby Romaine Salad with Creamy Pistachio Dressing?', \"What are some suggested gift ideas for Valentine's Day according to the context?\", 'What is the seating capacity of the 2008 Lexus GX 470?', 'What is the main service provided by the website mentioned in the context?', 'What are some of the materials used in the creation of the card?', 'What new feature does the multiplayer beta of Final Fantasy XV introduce?', 'What is the challenge mentioned in the context?', 'Who is the protagonist of the story in the book reviewed?', 'Who scored the first two goals for Northwestern in the championship game against North Carolina Tar Heels?', 'What was the purpose of the Prospect North exhibition?', 'What was the main goal of the new website for the Amsterdamse Kunstraad?', 'What are some of the topics that have been researched by The Kings Bromley Historians?', 'What is the purpose of the Cool Chair Covers photo collection?', 'What type of training is recommended for getting rid of abdominal fat?', 'What is the medical procedure the author is scheduled to undergo?', 'What are the concerns of fertility specialists about the trend towards having children later in life?', 'What is the name of the new puppy introduced by the blogger?', 'What does Dylan suggest his mom to pack along with the carmel corn in his lunch?', 'What is the EquiGroomer and how does it work?', 'Who is the author of the novels \"The Gift of Rain\" and \"The Garden of Evening Mists\", and what themes do these novels encompass?', 'What business did Cing Zeel Niang start and how did she manage it?', 'What is the most notable landmark in the town of Grasse?', 'What is the historical significance of the Aranđelovac municipality area?', 'What information does LebanonLinks collect when you register with them?', 'Who directed the movie \"The Transporter\"?', 'Where did John propose to the bride?', 'What are the benefits offered by the online pharmacy for fluticasone?', 'When did the Twitter account @0109mahahu start being active?', 'What are some steps the NCUA has taken to encourage federally chartered credit unions?', 'What is CFD or Contracts for difference in the context of trading and investment?', \"What changes have been observed in Kate's physical condition?\", 'What is the special event Loren is celebrating with Cam?', 'What is the new track from Young Empires called?', 'What services does the locksmith company in East Finchley provide?', 'What services are offered by the online payday loans direct lenders in Mentor, Ohio?', \"What were Willie Chandran's first impressions of Buckingham Palace and Speakers' Corner?\", 'What is the reviewer\\'s main criticism of \"The Girl With the Dragon Tattoo\"?', \"Why does the author question Hendriks' decision to disguise himself as Wistrom in Mission: Impossible – Ghost Protocol?\", 'What activity did HD Springer do on Jan 16, 2018 at 2:52 AM?', 'What changes were made to the identification requirements for parents to obtain birth certificates for their children in Texas?', 'What awards did the McClure series win?', 'What are some of the iron-related processes and materials mentioned in the context?', 'What is the purpose of the app mentioned in the context?', 'What led the couple to switch from the China program to the Korea program in their adoption process?', \"What is the focus of Chongqing's new venture to become a travel center on the upper range of the Yangtze River?\", 'What are some of the activities mentioned in the context?', 'What is the main plot of the film \"El mal ajeno\"?', 'What are the three broad categories of ideas for changing current health benefit tax policies?', 'What are some of the elements covered in a thesis presentation?', 'What changes were announced for the Tokyo Motor Show starting in autumn of 2007?', 'What are some early signs of pregnancy mentioned in the context?', 'What services does Sue Carney offer according to the reviews?', 'What is the person seeking in the context?', \"Who were the performers at Paul Wall's 34th birthday party?\", 'Who did Indiabulls Real Estate enter into a memorandum of understanding with for large infrastructure development projects?', 'What is considered the biggest problem in losing weight according to the context?', 'Who became second in command in the story of Esther and what was his character like?', 'What are some of the services provided by Dominguez Sheet Metal Works Inc?', \"What is the author's perspective on the Catholic church's handling of child molestation cases?\", 'What are the ingredients needed to prepare the recipe mentioned in the context?', 'How did Olivier Kwitonda start his career as a painter?', 'What are the steps involved in the conservation of a samurai sword?', \"What measures does Bhagwati Automation Pvt. Ltd. take to protect user's personal data?\", 'Who was awarded the Nordic Council Music Prize in 1991?']\n"
     ]
    }
   ],
   "source": [
    "\n",
    "\n",
    "# get the train questions from dataset\n",
    "questions = []\n",
    "for question in ds[\"train\"][\"question\"]:\n",
    "    questions.append(question)\n",
    "\n",
    "    \n",
    "random.shuffle(questions)\n",
    "questions = questions[:n_questions]\n",
    "\n",
    "print(questions)\n",
    "answers_llama = []\n",
    "answers_qwen = []\n"
   ]
  },
  {
   "cell_type": "code",
   "execution_count": 19,
   "id": "881f21db",
   "metadata": {},
   "outputs": [],
   "source": [
    "def query_rag(query_text: str, model):\n",
    "    # get the DB.\n",
    "    embedding_function = get_embedding_function()  \n",
    "    db = Chroma(persist_directory=CHROMA_PATH, embedding_function=embedding_function)\n",
    "\n",
    "    # Search the DB.\n",
    "    results = db.similarity_search_with_score(query_text, k=5)\n",
    "\n",
    "    # Build context text from the top results\n",
    "    context_text = \"\\n\\n---\\n\\n\".join([doc.page_content for doc, _score in results])\n",
    "    \n",
    "    # Format the prompt using the context and the query\n",
    "    prompt_template = ChatPromptTemplate.from_template(PROMPT_TEMPLATE)  \n",
    "    prompt = prompt_template.format(context=context_text, question=query_text)\n",
    "\n",
    "    # Generate the model's response\n",
    "    #model = Ollama(model=\"llama3.2:latest\")\n",
    "    model = Ollama(model=model)  \n",
    "    response_text = model.invoke(prompt)\n",
    "\n",
    "    # Get source document IDs\n",
    "    sources = [doc.metadata.get(\"id\", None) for doc, _score in results]\n",
    "    \n",
    "    # Format the response for output\n",
    "    formatted_response = f\"Response: {response_text}\\nSources: {sources}\"\n",
    "    \n",
    "    # Output the response\n",
    "    #print(formatted_response)\n",
    "    \n",
    "    return response_text, context_text\n",
    "\n",
    "def query_without_context(query_text: str, model):\n",
    "    #model = Ollama(model=\"llama3.2:latest\")\n",
    "    model = Ollama(model=model) \n",
    "\n",
    "    # Generate the response from the model, without sending any context\n",
    "    response_text = model.invoke(query_text)\n",
    "\n",
    "    return response_text"
   ]
  },
  {
   "cell_type": "code",
   "execution_count": 20,
   "id": "fc30ecc5",
   "metadata": {},
   "outputs": [
    {
     "name": "stderr",
     "output_type": "stream",
     "text": [
      "/var/folders/tz/_9r1pw_567xd7xk6rb7hb26w0000gn/T/ipykernel_51249/2065274673.py:18: LangChainDeprecationWarning: The class `Ollama` was deprecated in LangChain 0.3.1 and will be removed in 1.0.0. An updated version of the class exists in the :class:`~langchain-ollama package and should be used instead. To use it run `pip install -U :class:`~langchain-ollama` and import as `from :class:`~langchain_ollama import OllamaLLM``.\n",
      "  model = Ollama(model=model)\n"
     ]
    }
   ],
   "source": [
    "for question in questions:\n",
    "    answer_rag, context = query_rag(question, \"llama3.2:latest\")\n",
    "    answers_llama.append({\n",
    "        \"question\": question,\n",
    "        \"answer_rag\": answer_rag, # check the model used\n",
    "        \"answer_without\": query_without_context(question,\"llama3.2:latest\"),\n",
    "        \"context\": context\n",
    "    })"
   ]
  },
  {
   "cell_type": "code",
   "execution_count": 29,
   "id": "4f34ea48",
   "metadata": {},
   "outputs": [],
   "source": [
    "with open('answers_llama.csv', 'w', newline='') as file:\n",
    "    writer = csv.DictWriter(file, fieldnames=[\"question\", \"answer_rag\", \"answer_without\", \"context\"])\n",
    "    writer.writeheader()\n",
    "    writer.writerows(answers_llama)\n",
    "\n"
   ]
  },
  {
   "cell_type": "code",
   "execution_count": null,
   "id": "54bff395",
   "metadata": {},
   "outputs": [],
   "source": [
    "with open('answers_llama_test.csv', 'w', newline='') as file:\n",
    "    writer = csv.DictWriter(file, fieldnames=[\"question\", \"answer_rag\", \"answer_without\"])\n",
    "    writer.writeheader()\n",
    "    writer.writerows(answers_llama_test)\n"
   ]
  },
  {
   "cell_type": "code",
   "execution_count": 21,
   "id": "1beecb8f",
   "metadata": {},
   "outputs": [],
   "source": [
    "for question in questions:\n",
    "    answer_rag, context = query_rag(question, \"qwen:1.8b\")\n",
    "    answers_qwen.append({\n",
    "        \"question\": question,\n",
    "        \"answer_rag\": answer_rag, # check the model used\n",
    "        \"answer_without\": query_without_context(question, \"qwen:1.8b\"),\n",
    "        \"context\": context\n",
    "\n",
    "    })"
   ]
  },
  {
   "cell_type": "code",
   "execution_count": 30,
   "id": "eab6af51",
   "metadata": {},
   "outputs": [],
   "source": [
    "import csv\n",
    "\n",
    "# Save answers_qwen to a CSV file for future review\n",
    "with open('answers_qwen.csv', 'w', newline='') as file:\n",
    "    writer = csv.DictWriter(file, fieldnames=[\"question\", \"answer_rag\", \"answer_without\", \"context\"])\n",
    "    writer.writeheader()\n",
    "    writer.writerows(answers_qwen)\n",
    "\n"
   ]
  },
  {
   "cell_type": "code",
   "execution_count": null,
   "id": "5179e1e0",
   "metadata": {},
   "outputs": [],
   "source": [
    "# Save answers_qwen to a CSV file for future review\n",
    "with open('answers_qwen_test.csv', 'w', newline='') as file:\n",
    "    writer = csv.DictWriter(file, fieldnames=[\"question\", \"answer_rag\", \"answer_without\"])\n",
    "    writer.writeheader()\n",
    "    writer.writerows(answers_qwen_test)"
   ]
  },
  {
   "cell_type": "code",
   "execution_count": 31,
   "id": "08398b52",
   "metadata": {},
   "outputs": [],
   "source": [
    "# using metrics for Evaluation\n",
    "bertscore = load(\"bertscore\")"
   ]
  },
  {
   "cell_type": "code",
   "execution_count": 41,
   "id": "b8ed5665",
   "metadata": {},
   "outputs": [
    {
     "name": "stdout",
     "output_type": "stream",
     "text": [
      "Precision of Qwen model with context is: [0.7956336736679077, 0.8084174394607544, 0.7734006643295288, 0.7456615567207336, 0.7977733612060547, 0.8407531976699829, 0.813633918762207, 0.7979981303215027, 0.7710671424865723, 0.7900422811508179, 0.7762696743011475, 0.7886933088302612, 0.7603545188903809, 0.8142748475074768, 0.7781972289085388, 0.8013572692871094, 0.7400752305984497, 0.7424390912055969, 0.7443428039550781, 0.786456823348999, 0.8061749935150146, 0.8031603097915649, 0.7689630389213562, 0.8059662580490112, 0.7714278101921082, 0.7640394568443298, 0.7977060079574585, 0.7542874813079834, 0.7879287004470825, 0.7796409130096436, 0.7335317730903625, 0.8008466362953186, 0.7778154611587524, 0.7888476848602295, 0.7965366244316101, 0.747999906539917, 0.7118596434593201, 0.7981951832771301, 0.8101130127906799, 0.8175863027572632, 0.8039190769195557, 0.8188042640686035, 0.8271626830101013, 0.8020531535148621, 0.7923526763916016, 0.8239277005195618, 0.8205230832099915, 0.8134346604347229, 0.8111006021499634, 0.8085526823997498, 0.8140565752983093, 0.7653003334999084, 0.8417791724205017, 0.8167659640312195, 0.7859483957290649, 0.7648771405220032, 0.7840186357498169, 0.7841618657112122, 0.7231051921844482, 0.765551745891571, 0.8255205750465393, 0.813524067401886, 0.8008537292480469, 0.8106191158294678, 0.7569900751113892, 0.7854911684989929, 0.7456393837928772, 0.8282961249351501, 0.8221494555473328, 0.8196181058883667, 0.7443863153457642, 0.782367467880249, 0.8158200979232788, 0.7650341391563416, 0.8006935715675354, 0.8013713359832764, 0.7402405738830566, 0.7434974908828735, 0.791982114315033, 0.7950676083564758, 0.7482577562332153, 0.8138597011566162, 0.7820977568626404, 0.7706828117370605, 0.7808157205581665, 0.7459678649902344, 0.8066620826721191, 0.7526133060455322, 0.8410235643386841, 0.7933152318000793, 0.8296640515327454, 0.8293044567108154, 0.7750453352928162, 0.7567001581192017, 0.8105924725532532, 0.7890628576278687, 0.8211110234260559, 0.7490849494934082, 0.7744446396827698, 0.8162456154823303]\n",
      "Average precision of Qwen model with context is: 0.788\n"
     ]
    }
   ],
   "source": [
    "# compare the answers of the model with RAG\n",
    "predictions_qwen_rag = [entry[\"answer_rag\"] for entry in answers_qwen]\n",
    "results_qwen_rag = bertscore.compute(predictions=predictions_qwen_rag, references=answers, lang=\"en\")\n",
    "print(f\"Precision of Qwen model with context is: {results_qwen_rag['precision']}\")\n",
    "average_qwen_result_rag = sum(results_qwen_rag['precision']) / len(results_qwen_rag['precision'])\n",
    "print(f\"Average precision of Qwen model with context is: {average_qwen_result_rag:0.3f}\")"
   ]
  },
  {
   "cell_type": "code",
   "execution_count": 35,
   "id": "02b9c554",
   "metadata": {},
   "outputs": [
    {
     "name": "stdout",
     "output_type": "stream",
     "text": [
      "Precision of Llama model with context is: [0.7975001335144043, 0.8396221399307251, 0.8260539770126343, 0.8085988759994507, 0.785953938961029, 0.8369424939155579, 0.8270218968391418, 0.8184696435928345, 0.8469764590263367, 0.8196426033973694, 0.8283146023750305, 0.8440566062927246, 0.8087882995605469, 0.8315404653549194, 0.7943424582481384, 0.8235923647880554, 0.8110625147819519, 0.811543881893158, 0.8363077640533447, 0.8204318881034851, 0.8118723630905151, 0.808680534362793, 0.7903110384941101, 0.7976783514022827, 0.8107688426971436, 0.8230822086334229, 0.7893561124801636, 0.8285747766494751, 0.8053209781646729, 0.8140609860420227, 0.8034018278121948, 0.8375996947288513, 0.7876824140548706, 0.8296823501586914, 0.8197240829467773, 0.8360322713851929, 0.7469278573989868, 0.800238847732544, 0.8359338045120239, 0.8396008610725403, 0.8164983987808228, 0.8307029604911804, 0.8293836116790771, 0.8099339604377747, 0.8245574831962585, 0.8398594260215759, 0.836346447467804, 0.7910377383232117, 0.8111611604690552, 0.8368490934371948, 0.8101779818534851, 0.8347674608230591, 0.8404519557952881, 0.8342345952987671, 0.8026596307754517, 0.8085668087005615, 0.8158083558082581, 0.8383194804191589, 0.7995697855949402, 0.8021364808082581, 0.822743833065033, 0.8679096698760986, 0.7965720891952515, 0.801893413066864, 0.8330077528953552, 0.8062978982925415, 0.8279545307159424, 0.8474497199058533, 0.8450152277946472, 0.8288315534591675, 0.8304896354675293, 0.8108470439910889, 0.8237904906272888, 0.8281444311141968, 0.783033549785614, 0.8119730353355408, 0.8075480461120605, 0.7751908302307129, 0.8419524431228638, 0.8180677890777588, 0.8012964129447937, 0.817145049571991, 0.8317685723304749, 0.8277819752693176, 0.8193584680557251, 0.810352087020874, 0.7977554202079773, 0.8196257948875427, 0.8317963480949402, 0.8171247243881226, 0.7720593214035034, 0.8614016771316528, 0.8176994919776917, 0.8200350999832153, 0.8138782978057861, 0.7533390522003174, 0.8313901424407959, 0.7896455526351929, 0.7909151911735535, 0.8357798457145691]\n",
      "Average precision of Llama model with context is: 0.817\n"
     ]
    }
   ],
   "source": [
    "# compare the answers of the model Llama with RAG\n",
    "predictions_llama_rag = [entry[\"answer_rag\"] for entry in answers_llama]\n",
    "results_llama = bertscore.compute(predictions=predictions_llama_rag, references=answers, lang=\"en\")\n",
    "print(f\"Precision of Llama model with context is: {results_llama['precision']}\")\n",
    "average_llama_result_rag = sum(results_llama['precision']) / len(results_llama['precision'])\n",
    "print(f\"Average precision of Llama model with context is: {average_llama_result_rag:0.3f}\")"
   ]
  },
  {
   "cell_type": "code",
   "execution_count": 42,
   "id": "bd5d14b1",
   "metadata": {},
   "outputs": [
    {
     "name": "stdout",
     "output_type": "stream",
     "text": [
      "Precision of Qwen model without context is: [0.742435872554779, 0.8200365900993347, 0.8020001649856567, 0.803008496761322, 0.7809895277023315, 0.8181180953979492, 0.8001148104667664, 0.8291206955909729, 0.7967493534088135, 0.7992506623268127, 0.7928627133369446, 0.8061574697494507, 0.800856351852417, 0.813849687576294, 0.7867704629898071, 0.7940720319747925, 0.7967764139175415, 0.8061255812644958, 0.8126983642578125, 0.7952979207038879, 0.8027133941650391, 0.8187464475631714, 0.7997486591339111, 0.823540210723877, 0.7915159463882446, 0.8257336020469666, 0.7896442413330078, 0.7425274848937988, 0.7555903196334839, 0.727130115032196, 0.790415346622467, 0.8157134056091309, 0.7609901428222656, 0.7883503437042236, 0.8394885659217834, 0.7789689898490906, 0.747523844242096, 0.8001487851142883, 0.8163676261901855, 0.8252931833267212, 0.7874883413314819, 0.8206367492675781, 0.8195948600769043, 0.8252633213996887, 0.8041353225708008, 0.8337293863296509, 0.7587258219718933, 0.7945466041564941, 0.8078441023826599, 0.7444046139717102, 0.8258910179138184, 0.8014737367630005, 0.8400627970695496, 0.8300117254257202, 0.7755811810493469, 0.7673754096031189, 0.7928566932678223, 0.8220351338386536, 0.7680206894874573, 0.7797133922576904, 0.8043596744537354, 0.8326603770256042, 0.809339165687561, 0.8132215142250061, 0.7488293051719666, 0.7709226012229919, 0.8246020674705505, 0.8122113347053528, 0.8193387389183044, 0.7952609658241272, 0.7651878595352173, 0.8111069202423096, 0.8335373401641846, 0.7916771173477173, 0.7699816226959229, 0.8152146339416504, 0.7657347321510315, 0.8006691336631775, 0.8040301203727722, 0.8020182847976685, 0.7916036248207092, 0.8374375700950623, 0.8166292905807495, 0.8221369981765747, 0.8043944835662842, 0.8039718270301819, 0.7420791983604431, 0.8437488675117493, 0.8028868436813354, 0.8189356923103333, 0.7966300845146179, 0.8024407625198364, 0.7731360197067261, 0.7979338765144348, 0.7971478700637817, 0.8207600116729736, 0.8053557276725769, 0.7910532355308533, 0.7802960872650146, 0.7573869228363037]\n",
      "Average precision of Qwen model without context is: 0.798\n"
     ]
    }
   ],
   "source": [
    "# compare the answers of the Qwen _without_ RAG\n",
    "predictions_qwen = [entry[\"answer_without\"] for entry in answers_qwen]\n",
    "results_qwen = bertscore.compute(predictions=predictions_qwen, references=answers, lang=\"en\")\n",
    "print(f\"Precision of Qwen model without context is: {results_qwen['precision']}\")\n",
    "average_qwen_result = sum(results_qwen['precision']) / len(results_qwen['precision'])\n",
    "print(f\"Average precision of Qwen model without context is: {average_qwen_result:0.3f}\")"
   ]
  },
  {
   "cell_type": "code",
   "execution_count": 36,
   "id": "05036316",
   "metadata": {},
   "outputs": [
    {
     "name": "stdout",
     "output_type": "stream",
     "text": [
      "Precision of Llama model without context is: [0.8115937113761902, 0.826520562171936, 0.8573580980300903, 0.8033820986747742, 0.7824912667274475, 0.8208297491073608, 0.8141026496887207, 0.8220388293266296, 0.7839900255203247, 0.7880523800849915, 0.7961296439170837, 0.817150890827179, 0.7829346060752869, 0.7909253835678101, 0.7616727948188782, 0.8061213493347168, 0.7827529907226562, 0.812379002571106, 0.8541074395179749, 0.7717538475990295, 0.7904883027076721, 0.7870098948478699, 0.7784658670425415, 0.8041990399360657, 0.7867659330368042, 0.8334479928016663, 0.7573888301849365, 0.7681354284286499, 0.778113603591919, 0.7622475624084473, 0.7702404856681824, 0.7848925590515137, 0.7861477136611938, 0.8360008597373962, 0.8166213035583496, 0.7912790179252625, 0.7198901772499084, 0.7821958065032959, 0.8094507455825806, 0.8242112398147583, 0.7807921171188354, 0.8104339838027954, 0.8093810677528381, 0.8185756206512451, 0.8532363176345825, 0.8084851503372192, 0.8307607769966125, 0.8162627220153809, 0.7918291687965393, 0.7570883631706238, 0.8076729774475098, 0.7658586502075195, 0.8300827145576477, 0.8146539926528931, 0.7580151557922363, 0.7991191744804382, 0.8066810369491577, 0.8301664590835571, 0.7584003806114197, 0.7873151302337646, 0.8299349546432495, 0.8287885189056396, 0.7701104283332825, 0.8146404027938843, 0.789659857749939, 0.7487521767616272, 0.812809944152832, 0.8161236047744751, 0.8174567818641663, 0.7983520030975342, 0.7654110789299011, 0.8097555041313171, 0.8110961318016052, 0.8001211881637573, 0.8215932250022888, 0.8142551779747009, 0.8274553418159485, 0.8097589612007141, 0.8125867247581482, 0.7942410111427307, 0.818437933921814, 0.8319423794746399, 0.7905824184417725, 0.7890931963920593, 0.7721736431121826, 0.8475157022476196, 0.7879456281661987, 0.8273571133613586, 0.8095316886901855, 0.8387659788131714, 0.8284281492233276, 0.7859663963317871, 0.7926846742630005, 0.7750407457351685, 0.7906777262687683, 0.8121315836906433, 0.8045665621757507, 0.761568546295166, 0.7762736678123474, 0.8507702350616455]\n",
      "Average precision of Llama model without context is: 0.801\n"
     ]
    }
   ],
   "source": [
    "# compare the answers of the Llama _without_ RAG\n",
    "predictions_llama = [entry[\"answer_without\"] for entry in answers_llama]\n",
    "results_llama = bertscore.compute(predictions=predictions_llama, references=answers, lang=\"en\")\n",
    "print(f\"Precision of Llama model without context is: {results_llama['precision']}\")\n",
    "average_llama_result = sum(results_llama['precision']) / len(results_llama['precision'])\n",
    "print(f\"Average precision of Llama model without context is: {average_llama_result:0.3f}\")"
   ]
  },
  {
   "cell_type": "markdown",
   "id": "df8943c0",
   "metadata": {},
   "source": [
    "-------------\n",
    "# Apply on Test Dataset"
   ]
  },
  {
   "cell_type": "code",
   "execution_count": 39,
   "id": "aab12f7d",
   "metadata": {},
   "outputs": [
    {
     "name": "stdout",
     "output_type": "stream",
     "text": [
      "['What was the business model of the Donald Trump Network?', \"What role did the author's mother play in the lives of the two girls mentioned in the context?\", 'What are some potential solutions for the Outlook Send Error?', 'Who is the mayor of Clinton seeking his eighth term?', 'Who was Jessie Foster living with in Las Vegas before her disappearance?', \"What are some of Jesse Oliver's musical influences?\", 'What was the difference in views between Public Protector Busisiwe Mkhwebane and her predecessor Thuli Madonsela on the terms of reference of the judicial commission of inquiry into state capture?', 'What are the pros and cons of playing Katarina in a game?', \"What is the woman's preference in the context?\", 'What are some of the uses for the mobile homes produced?', 'What is the function of the BK-channel blocker GAL021 in relation to opioid-induced respiratory depression?', 'Where did the culture of drag racing originate?', 'Who were the two top executives at Vice Media that were put on leave amid a sexual harassment scandal?', 'What types of fruit does the welfare orchard run by the Church grow?', 'What is the setting and theme of the game Kingdom Come: Deliverance?', 'Who is the Chairman of the Civil Committee of the District Court?', 'What determines the spiciness of ginger candies?', 'What is the purpose of the Gara Pagos series in mobile crusher?', 'What is the purpose of a storyboard in animated video production?', 'What is the active component in garcinia cambogia extract and what is its potential effect on weight loss?', 'What are the three sets of tags needed in the governance note for organizing a project in Springpad?', 'What are some advantages of selling a home in the winter season?', 'Who created the \"Corn Growers Guidebook\" and what is its purpose?', 'What are some of the designs featured under the gallery: Graceful Classic Manor with Historical Design Splendor?', 'Who returns to the show \"Agents of S.H.I.E.L.D.\" in Season 5 to help Leo Fitz?', 'Where does the Race take place according to the context?', 'Who replaced the injured captain Andrew Amonde in the Kenyan rugby team?', 'What advice is given to first semester students to help them navigate Berklee and life in general?', \"What is the author's sentiment towards the idea of Christmas in the given year?\", 'Who is the Citizen of the Year in Whitchurch town?', 'What is one feature that differentiates The Trump Network from other health supplement companies?', 'What are some of the demands issued by the Hefazat-e-Islam party at a rally in Dhaka?', 'What are the three elements listed in Section 1 for shaping a gravel road?', 'What is the purpose of Ensure Plus according to the context?', 'How long has the author been running their blog?', 'What is the current situation of the dental service in Shetland according to NHS Shetland?', 'Who is the new coach for the Elon football team?', 'What was the purpose of the monthly newsletter produced by the Monadnock Folklore Society from November 1981 to February 1983?', 'What is one possible solution to fix the Code 10 error?', 'What was the primary goal of the partnership between The Oklahoma Association of Conservation Districts, Western Farmers Electric Cooperative, and The Oklahoma Conservation Commission in 2008?', \"What was the feedback received from the publisher and editor about the author's fourth book?\", 'How could one enter the contest to win two tickets to see various artists at The Fillmore in Charlotte in 2017?', 'What are some features of the OurHome app that make it unique for organizing household chores?', 'What changes did Amanda make in her life after realizing the negative impact of always saying \"yes\"?', 'What mistakes did the narrator make during his run?', 'What are the criticisms raised against Oprah Winfrey regarding her magazine covers?', 'When will the examination for the RRB Bilaspur Admit Card 2015 be held?', 'What are some of the things the author enjoys about Autumn?', 'Why are the new plans for redeveloping Lathrop Homes facing opposition?', 'What is the foundation of sanctification according to the sermon on July 11, 2010?', 'What are some benefits of walking regularly?', 'Who was selected to build the expanded Clover Point Pump Station and when is the construction expected to be completed?', 'What are some of the fun and stress-free ways to lose weight after the holiday season?', 'What is the focus of the research conducted by Adler, P. R., Del Grosso, S. J., Parton, W. J.?', \"What is the most important point to attend to according to George Muller's quote?\", 'What is the name of the son whose nursery is being described?', 'Who was the Airbus A300B4-622R first leased to after being accepted by Ansett Worldwide Air Services?', 'What does the acronym AALL stand for?', 'Who warned Takehito Shirahane about the impending invasion of Earth?', 'Who scored twice against Heidelberg United at AAMI Park last Sunday?', 'What could be the potential consequence of reductions in investments and low oil prices according to the study mentioned in the context?', 'What is a \"Cultural Muslim\" according to Kaighla Um Dayo?', \"What was the result of the narrator's participation in the Fin Del Verano stage race?\", 'What is a legal norm defined as?', 'What is the purpose of the Grass Roots Community Activist Movement (GRCAM)?', 'When is the Mercedes-AMG GT3, the racing version of the new Mercedes-AMG GT, expected to launch?', 'What is the favorite color of the husband mentioned in the context?', 'What amenities does the Ayre Hotel Rosellon in Barcelona offer?', 'What are the three types of licenses that residents can apply for according to the context?', 'What are some of the features of the Quik - GoPro Video Editor app?', \"What significant financial move did Reliance Communications' Chairman Anil Ambani announce in 2017?\", 'Who is the executive producer of the Angel & Faith Season Ten comic book series?', 'What percentage of Apple Pay users aged 18 and up also utilize Western Union?', \"What is the new single from Summer Camp's forthcoming album 'Welcome to Condale'?\", 'What is the poem \"River Beauty\" about?', 'Who is the author of the book \"Wolfsbane (Nightshade #2)\"?', 'What is the genre of the song \"My Way\" by Frank Sinatra?', 'What factors can affect the cost of auto insurance premiums?', 'What kind of services does CompuSage Limited provide?', 'What is the purpose of the messages mentioned in the context?', 'Who was Stanley Meyer and what was his controversial invention?', 'What is the purpose of a thesis or dissertation at Penn State University according to the Graduate School section of the ETD database?', \"Who were Franklin Detraz's parents and where were they born?\", 'What are some of the top tech conferences that took place in 2017?', 'What is the sale price of the 2117 of Sweden Bjorkliden Fleece for women?', 'Who is the instructor for the Microsoft Project 2016 Advanced Training Master Class?', 'What is the minimum schooling required for a massage therapist according to AMTA?', 'What activities are the volunteers in the walled garden next to the library in the park engaged in?', 'What are the different food and drink options available at the College?', 'What measures does the company take to ensure the quality of their furniture products?', 'What will happen to the votes from the week when no one was eliminated on the show?', \"What was the cue word for the week's CASology challenge?\", 'Who are the main characters in the book \"Odd and the Frost Giants\"?', 'What is the main gift-giving day in Spain?', 'Who is Luther and why does he want to join the group?', \"What are some practical ways to improve a business's online presence?\", 'What are some of the features of the house being sold?', 'What are some of the benefits of playing in online casinos?', 'What were the activities included in the assessment day for the Institute of Direct Marketing Summer School?', 'What is the quarrying production line of Peridot/Olivine mainly referred to?']\n"
     ]
    }
   ],
   "source": [
    "n_questions = 100\n",
    "random.seed(11)\n",
    "\n",
    "# get the questions from Test dataset\n",
    "questions_test = []\n",
    "for question in ds[\"test\"][\"question\"]:\n",
    "    questions_test.append(question)\n",
    "\n",
    "    \n",
    "random.shuffle(questions_test)\n",
    "questions_test = questions_test[:n_questions]\n",
    "\n",
    "print(questions_test)\n",
    "answers_llama_test = []\n",
    "answers_qwen_test = []"
   ]
  },
  {
   "cell_type": "code",
   "execution_count": 15,
   "id": "5ddc9a4a",
   "metadata": {},
   "outputs": [],
   "source": [
    "for question in questions_test:\n",
    "    answers_llama_test.append({\n",
    "        \"question\": question,\n",
    "        \"answer_rag\": query_rag(question), # check the model used\n",
    "        \"answer_without\": query_without_context(question)\n",
    "    })"
   ]
  },
  {
   "cell_type": "code",
   "execution_count": 18,
   "id": "69167937",
   "metadata": {},
   "outputs": [],
   "source": [
    "for question in questions_test:\n",
    "    answers_qwen_test.append({\n",
    "        \"question\": question,\n",
    "        \"answer_rag\": query_rag(question), # check the model used\n",
    "        \"answer_without\": query_without_context(question)\n",
    "    })"
   ]
  },
  {
   "cell_type": "code",
   "execution_count": 20,
   "id": "9cebbf62",
   "metadata": {},
   "outputs": [
    {
     "name": "stdout",
     "output_type": "stream",
     "text": [
      "['The Donald Trump Network sold both the network’s ‘name’ and supplements. There was compensation for referring new people to the network and also for selling supplements. New clients would get a urine test kit to collect a sample of their urine, which would be sent to a laboratory for analysis. Various supplements in different combinations were then prescribed and would be sent to the client or members of the network each month.', \"The author's mother was the Guardian ad Litem for the two girls, assigned by the court system to look out for their best interests. She petitioned for their needs, gave opinions on their living arrangements, and established a positive and stable relationship with them.\", \"Some potential solutions for the Outlook Send Error include creating a new Outlook profile and re-adding your data files, removing your Outlook data files from your Account Settings -> Data files list and adding them back again, and disabling your anti-virus for the operation. If the error is due to a corrupt profile, the problematic profile needs to be removed. If Outlook is connecting to a POP3 server and the user changed his password without updating Outlook, the password needs to be updated in Outlook. If there's a corrupt message in the user's mailbox in a POP3 environment, it needs to be dealt with. If you're sending or receiving a large email attachment, your email account remains locked.\", 'Lew Starling', 'Jessie Foster was living with 39-year-old Peter Todd, who was well-known to police as a pimp.', \"Jesse Oliver's musical influences include Sisters of Mercy, Fields of the Nephilim, Depeche Mode, Massive Attack, Interpol and The Cure. He also listens to a lot of electronic music, including Rotterdam Hardcore and Goa Trance.\", 'Thuli Madonsela believed that the terms of reference should be based on what she had investigated and there was no room to expand the commission to include what was never investigated. On the other hand, Busisiwe Mkhwebane called for a wider probe into state capture, urging that the terms of reference should be broad enough to include the capture of all state institutions and state-owned entities.', 'The pros of playing Katarina include fast minion wave clearing, strong late game, no mana usage, great teamfighting, and high rewards. The cons include the need for early game kills to be effective, inability to tank like Malphite, being a melee mage, and getting focused a lot.', 'The woman prefers someone honest and sincere, who she can possibly have a relationship with. She is not interested in freaks and prefers someone who is HWP, DDF and SWM.', 'The houses can be used as summer lake or sea houses, residential, offices, social housing, commercial buildings or warehouses.', 'The BK-channel blocker GAL021 is a respiratory stimulant that can reverse opioid-induced respiratory depression. It acts at K(+) -channels expressed on type 1 carotid body cells and does not interact with the opioid system, therefore it does not compromise opioid analgesic efficacy.', 'The culture of drag racing started on the dry lake beds of California.', 'The two top executives at Vice Media that were put on leave amid a sexual harassment scandal were company president Andrew Creighton and chief digital officer Mike Germano.', 'The welfare orchard run by the Church grows peaches, apricots, apples, cherries, almonds, etc.', 'The game Kingdom Come: Deliverance is set within the Holy Roman Empire during the late Middle Ages. It promises a first-person seat to a harsh and brutal power struggle for the throne. The game draws its inspiration from historically authentic characters, themes, and warfare, with no magic, high fantasy or mythical overtones.', 'Judge Gibson is the Chairman of the Civil Committee of the District Court.', 'The spiciness of the candy is dependent on the age of the ginger, the older the ginger is, the more spicy the candies will turn out.', 'A building is demolished and natural stones dug out during civil engineering work with mobile crusher, and marketed Gara Pagos series for this purpose.', 'The purpose of a storyboard in animated video production is to provide a basic visual sense of how the whole video will be put together. It helps the production team understand every scene before production begins. It is also used to write the dialogue under each frame so everyone can see what’s being said for each scene.', 'The active component in garcinia cambogia extract is hydroxycitric acid (HCA). It appears to inhibit the enzyme ATP-citrate lyase, diverting carbohydrates away from fat storage and towards stored energy as glycogen. Increased glycogen levels are thought to send a signal to the brain that the body is “full,” causing reduced appetite and food intake. It also seems to stimulate serotonin release which is associated with decreased food intake. Additionally, it may help break down the protective perilipin layer surrounding fat cells, making it easier for the body to burn fat cells.']\n"
     ]
    }
   ],
   "source": [
    "answers_test = []\n",
    "n_questions = 20\n",
    "random.seed(11)\n",
    "\n",
    "# get the answers provided from the dataset\n",
    "for answer in ds[\"test\"][\"answer\"]:\n",
    "    answers_test.append(answer)\n",
    "\n",
    "random.shuffle(answers_test)\n",
    "answers_test = answers_test[:n_questions]\n",
    "print(answers_test)"
   ]
  },
  {
   "cell_type": "code",
   "execution_count": 84,
   "id": "9dc332cb",
   "metadata": {},
   "outputs": [
    {
     "name": "stdout",
     "output_type": "stream",
     "text": [
      "Precision of Qwen model with context using test DS is: [0.7707095742225647, 0.8602573275566101, 0.8458157777786255, 0.8468570113182068, 0.8512611985206604, 0.8327263593673706, 0.7890494465827942, 0.8119370937347412, 0.8579158782958984, 0.7438424229621887, 0.89805668592453, 0.8437221050262451, 0.9425426721572876, 0.8266360759735107, 0.8330429792404175, 0.8862369656562805, 0.8400332927703857, 0.8153977394104004, 0.8804709911346436, 0.8650380373001099]\n",
      "Average precision of Qwen model with context using test DS is: 0.842\n"
     ]
    }
   ],
   "source": [
    "# compare the Test DS answers of the model with RAG\n",
    "predictions_qwen_rag_test = [entry[\"answer_rag\"] for entry in answers_qwen_test]\n",
    "results_qwen_test = bertscore.compute(predictions=predictions_qwen_rag_test, references=answers_test, lang=\"en\")\n",
    "print(f\"Precision of Qwen model with context using test DS is: {results_qwen_test['precision']}\")\n",
    "average_qwen_result_rag = sum(results_qwen_test['precision']) / len(results_qwen_test['precision'])\n",
    "print(f\"Average precision of Qwen model with context using test DS is: {average_qwen_result_rag:0.3f}\")"
   ]
  },
  {
   "cell_type": "code",
   "execution_count": 85,
   "id": "cbc0c0db",
   "metadata": {},
   "outputs": [
    {
     "name": "stdout",
     "output_type": "stream",
     "text": [
      "Precision of Llama model with context is: [0.8896971940994263, 0.9132505059242249, 0.8579166531562805, 0.9927899837493896, 0.9439313411712646, 0.8285902738571167, 0.8887848854064941, 0.8703585267066956, 0.8441950678825378, 0.8317444920539856, 0.9285246133804321, 0.8445356488227844, 0.9482240676879883, 0.8733073472976685, 0.8327681422233582, 0.8435680270195007, 0.9697893261909485, 0.8459093570709229, 0.8999610543251038, 0.9609237313270569]\n",
      "Average precision of Llama model with context is: 0.890\n"
     ]
    }
   ],
   "source": [
    "# compare the answers of the model Llama with RAG\n",
    "predictions_llama_rag_test = [entry[\"answer_rag\"] for entry in answers_llama_test]\n",
    "results_llama_test = bertscore.compute(predictions=predictions_llama_rag_test, references=answers_test, lang=\"en\")\n",
    "print(f\"Precision of Llama model with context is: {results_llama_test['precision']}\")\n",
    "average_llama_result_rag = sum(results_llama_test['precision']) / len(results_llama_test['precision'])\n",
    "print(f\"Average precision of Llama model with context is: {average_llama_result_rag:0.3f}\")"
   ]
  },
  {
   "cell_type": "code",
   "execution_count": 86,
   "id": "b9e1b3dd",
   "metadata": {},
   "outputs": [
    {
     "name": "stdout",
     "output_type": "stream",
     "text": [
      "Average precision of Qwen model without context is: 0.842\n"
     ]
    }
   ],
   "source": [
    "# compare the answers of the Qwen _without_ RAG\n",
    "predictions_qwen = [entry[\"answer_without\"] for entry in answers_qwen_test]\n",
    "results_qwen = bertscore.compute(predictions=predictions_qwen, references=answers, lang=\"en\")\n",
    "#print(f\"Precision of Qwen model without context is: {results_qwen['precision']}\")\n",
    "average_qwen_result = sum(results_qwen_test['precision']) / len(results_qwen_test['precision'])\n",
    "print(f\"Average precision of Qwen model without context is: {average_qwen_result:0.3f}\")"
   ]
  },
  {
   "cell_type": "code",
   "execution_count": 91,
   "id": "7e76be95",
   "metadata": {},
   "outputs": [
    {
     "name": "stdout",
     "output_type": "stream",
     "text": [
      "Average precision of Llama model without context is: 0.890\n"
     ]
    }
   ],
   "source": [
    "# compare the answers of the Llama _without_ RAG\n",
    "predictions_llama = [entry[\"answer_without\"] for entry in answers_llama_test]\n",
    "results_llama = bertscore.compute(predictions=predictions_llama, references=answers, lang=\"en\")\n",
    "#print(f\"Precision of Llama model without context is: {results_llama['precision']}\")\n",
    "average_llama_result = sum(results_llama_test['precision']) / len(results_llama_test['precision'])\n",
    "print(f\"Average precision of Llama model without context is: {sum(results_llama_test['precision']) / len(results_llama['precision']):0.3f}\")"
   ]
  },
  {
   "cell_type": "markdown",
   "id": "b015d0d1",
   "metadata": {},
   "source": [
    "# Rouge on train dataset"
   ]
  },
  {
   "cell_type": "code",
   "execution_count": 43,
   "id": "1ed35b8f",
   "metadata": {},
   "outputs": [
    {
     "data": {
      "image/png": "[encoded data removed]",
      "text/plain": [
       "<Figure size 1000x600 with 1 Axes>"
      ]
     },
     "metadata": {},
     "output_type": "display_data"
    }
   ],
   "source": [
    "import matplotlib.pyplot as plt\n",
    "import numpy as np\n",
    "\n",
    "results = {\n",
    "    \"Qwen (RAG)\": average_qwen_result_rag, \n",
    "    \"Qwen (No RAG)\": average_qwen_result, \n",
    "    \"Llama (RAG)\": average_llama_result_rag, \n",
    "    \"Llama (No RAG)\": average_llama_result\n",
    "}\n",
    "x = np.arange(4)\n",
    "width = 0.2\n",
    "fig, ax = plt.subplots(figsize=(10, 6))\n",
    "colors = ['skyblue', 'pink', 'violet', 'lightgreen']\n",
    "x_labels = list(results.keys())\n",
    "\n",
    "for i, model in enumerate(x_labels):\n",
    "    value = results[model]\n",
    "    bar = ax.bar(x[i], value, width, label=model, color=colors[i])\n",
    "\n",
    "    # Adding the value on top of each bar\n",
    "    ax.text(\n",
    "        x[i],\n",
    "        value + 0.02,\n",
    "        f'{value:.3f}', \n",
    "        ha='center',\n",
    "        fontsize=10\n",
    "    )\n",
    "    \n",
    "ax.set_xlabel(\"Model\", fontsize=12)\n",
    "ax.set_ylabel(\"Average BERTScore\", fontsize=12)\n",
    "ax.set_title(\"BERTScore Comparison: Qwen vs Llama (With and Without RAG)\", fontsize=14)\n",
    "ax.set_xticks(x)\n",
    "ax.set_xticklabels(x_labels) \n",
    "ax.set_ylim(0, 1)\n",
    "ax.legend()\n",
    "\n",
    "# Add gridlines\n",
    "ax.grid(axis='y', linestyle='--', alpha=0.7)\n",
    "\n",
    "plt.tight_layout()\n",
    "plt.show()"
   ]
  },
  {
   "cell_type": "code",
   "execution_count": 44,
   "id": "86ad8d56",
   "metadata": {},
   "outputs": [],
   "source": [
    "accuracy_metric = evaluate.load(\"accuracy\")"
   ]
  },
  {
   "cell_type": "code",
   "execution_count": null,
   "id": "f8774712",
   "metadata": {},
   "outputs": [
    {
     "ename": "ValueError",
     "evalue": "invalid literal for int() with base 10: 'The KI Work Environment and Health Award consists of a certificate and 30,000 SEK (Swedish Krona) to use for further joint activities in the workplace to promote health at work. The award is given to",
     "output_type": "error",
     "traceback": [
      "\u001b[0;31m---------------------------------------------------------------------------\u001b[0m",
      "\u001b[0;31mValueError\u001b[0m                                Traceback (most recent call last)",
      "Cell \u001b[0;32mIn[46], line 1\u001b[0m\n\u001b[0;32m----> 1\u001b[0m results_accuracy \u001b[38;5;241m=\u001b[39m \u001b[43maccuracy_metric\u001b[49m\u001b[38;5;241;43m.\u001b[39;49m\u001b[43mcompute\u001b[49m\u001b[43m(\u001b[49m\u001b[43mreferences\u001b[49m\u001b[38;5;241;43m=\u001b[39;49m\u001b[43manswers\u001b[49m\u001b[43m,\u001b[49m\u001b[43m \u001b[49m\u001b[43mpredictions\u001b[49m\u001b[38;5;241;43m=\u001b[39;49m\u001b[43mpredictions_llama_rag\u001b[49m\u001b[43m)\u001b[49m\n\u001b[1;32m      2\u001b[0m \u001b[38;5;28mprint\u001b[39m(results_accuracy)\n",
      "File \u001b[0;32m~/Measuring_RAG_Effectiveness/.venv/lib/python3.11/site-packages/evaluate/module.py:455\u001b[0m, in \u001b[0;36mEvaluationModule.compute\u001b[0;34m(self, predictions, references, **kwargs)\u001b[0m\n\u001b[1;32m    452\u001b[0m compute_kwargs \u001b[38;5;241m=\u001b[39m {k: kwargs[k] \u001b[38;5;28;01mfor\u001b[39;00m k \u001b[38;5;129;01min\u001b[39;00m kwargs \u001b[38;5;28;01mif\u001b[39;00m k \u001b[38;5;129;01mnot\u001b[39;00m \u001b[38;5;129;01min\u001b[39;00m \u001b[38;5;28mself\u001b[39m\u001b[38;5;241m.\u001b[39m_feature_names()}\n\u001b[1;32m    454\u001b[0m \u001b[38;5;28;01mif\u001b[39;00m \u001b[38;5;28many\u001b[39m(v \u001b[38;5;129;01mis\u001b[39;00m \u001b[38;5;129;01mnot\u001b[39;00m \u001b[38;5;28;01mNone\u001b[39;00m \u001b[38;5;28;01mfor\u001b[39;00m v \u001b[38;5;129;01min\u001b[39;00m inputs\u001b[38;5;241m.\u001b[39mvalues()):\n\u001b[0;32m--> 455\u001b[0m     \u001b[38;5;28;43mself\u001b[39;49m\u001b[38;5;241;43m.\u001b[39;49m\u001b[43madd_batch\u001b[49m\u001b[43m(\u001b[49m\u001b[38;5;241;43m*\u001b[39;49m\u001b[38;5;241;43m*\u001b[39;49m\u001b[43minputs\u001b[49m\u001b[43m)\u001b[49m\n\u001b[1;32m    456\u001b[0m \u001b[38;5;28mself\u001b[39m\u001b[38;5;241m.\u001b[39m_finalize()\n\u001b[1;32m    458\u001b[0m \u001b[38;5;28mself\u001b[39m\u001b[38;5;241m.\u001b[39mcache_file_name \u001b[38;5;241m=\u001b[39m \u001b[38;5;28;01mNone\u001b[39;00m\n",
      "File \u001b[0;32m~/Measuring_RAG_Effectiveness/.venv/lib/python3.11/site-packages/evaluate/module.py:520\u001b[0m, in \u001b[0;36mEvaluationModule.add_batch\u001b[0;34m(self, predictions, references, **kwargs)\u001b[0m\n\u001b[1;32m    518\u001b[0m         \u001b[38;5;28;01mif\u001b[39;00m \u001b[38;5;28mlen\u001b[39m(column) \u001b[38;5;241m>\u001b[39m \u001b[38;5;241m0\u001b[39m:\n\u001b[1;32m    519\u001b[0m             \u001b[38;5;28mself\u001b[39m\u001b[38;5;241m.\u001b[39m_enforce_nested_string_type(\u001b[38;5;28mself\u001b[39m\u001b[38;5;241m.\u001b[39mselected_feature_format[key], column[\u001b[38;5;241m0\u001b[39m])\n\u001b[0;32m--> 520\u001b[0m     batch \u001b[38;5;241m=\u001b[39m \u001b[38;5;28;43mself\u001b[39;49m\u001b[38;5;241;43m.\u001b[39;49m\u001b[43mselected_feature_format\u001b[49m\u001b[38;5;241;43m.\u001b[39;49m\u001b[43mencode_batch\u001b[49m\u001b[43m(\u001b[49m\u001b[43mbatch\u001b[49m\u001b[43m)\u001b[49m\n\u001b[1;32m    521\u001b[0m     \u001b[38;5;28mself\u001b[39m\u001b[38;5;241m.\u001b[39mwriter\u001b[38;5;241m.\u001b[39mwrite_batch(batch)\n\u001b[1;32m    522\u001b[0m \u001b[38;5;28;01mexcept\u001b[39;00m (pa\u001b[38;5;241m.\u001b[39mArrowInvalid, \u001b[38;5;167;01mTypeError\u001b[39;00m):\n",
      "File \u001b[0;32m~/Measuring_RAG_Effectiveness/.venv/lib/python3.11/site-packages/datasets/features/features.py:2028\u001b[0m, in \u001b[0;36mFeatures.encode_batch\u001b[0;34m(self, batch)\u001b[0m\n\u001b[1;32m   2026\u001b[0m \u001b[38;5;28;01mfor\u001b[39;00m key, column \u001b[38;5;129;01min\u001b[39;00m batch\u001b[38;5;241m.\u001b[39mitems():\n\u001b[1;32m   2027\u001b[0m     column \u001b[38;5;241m=\u001b[39m cast_to_python_objects(column)\n\u001b[0;32m-> 2028\u001b[0m     encoded_batch[key] \u001b[38;5;241m=\u001b[39m \u001b[43m[\u001b[49m\u001b[43mencode_nested_example\u001b[49m\u001b[43m(\u001b[49m\u001b[38;5;28;43mself\u001b[39;49m\u001b[43m[\u001b[49m\u001b[43mkey\u001b[49m\u001b[43m]\u001b[49m\u001b[43m,\u001b[49m\u001b[43m \u001b[49m\u001b[43mobj\u001b[49m\u001b[43m,\u001b[49m\u001b[43m \u001b[49m\u001b[43mlevel\u001b[49m\u001b[38;5;241;43m=\u001b[39;49m\u001b[38;5;241;43m1\u001b[39;49m\u001b[43m)\u001b[49m\u001b[43m \u001b[49m\u001b[38;5;28;43;01mfor\u001b[39;49;00m\u001b[43m \u001b[49m\u001b[43mobj\u001b[49m\u001b[43m \u001b[49m\u001b[38;5;129;43;01min\u001b[39;49;00m\u001b[43m \u001b[49m\u001b[43mcolumn\u001b[49m\u001b[43m]\u001b[49m\n\u001b[1;32m   2029\u001b[0m \u001b[38;5;28;01mreturn\u001b[39;00m encoded_batch\n",
      "File \u001b[0;32m~/Measuring_RAG_Effectiveness/.venv/lib/python3.11/site-packages/datasets/features/features.py:2028\u001b[0m, in \u001b[0;36m<listcomp>\u001b[0;34m(.0)\u001b[0m\n\u001b[1;32m   2026\u001b[0m \u001b[38;5;28;01mfor\u001b[39;00m key, column \u001b[38;5;129;01min\u001b[39;00m batch\u001b[38;5;241m.\u001b[39mitems():\n\u001b[1;32m   2027\u001b[0m     column \u001b[38;5;241m=\u001b[39m cast_to_python_objects(column)\n\u001b[0;32m-> 2028\u001b[0m     encoded_batch[key] \u001b[38;5;241m=\u001b[39m [\u001b[43mencode_nested_example\u001b[49m\u001b[43m(\u001b[49m\u001b[38;5;28;43mself\u001b[39;49m\u001b[43m[\u001b[49m\u001b[43mkey\u001b[49m\u001b[43m]\u001b[49m\u001b[43m,\u001b[49m\u001b[43m \u001b[49m\u001b[43mobj\u001b[49m\u001b[43m,\u001b[49m\u001b[43m \u001b[49m\u001b[43mlevel\u001b[49m\u001b[38;5;241;43m=\u001b[39;49m\u001b[38;5;241;43m1\u001b[39;49m\u001b[43m)\u001b[49m \u001b[38;5;28;01mfor\u001b[39;00m obj \u001b[38;5;129;01min\u001b[39;00m column]\n\u001b[1;32m   2029\u001b[0m \u001b[38;5;28;01mreturn\u001b[39;00m encoded_batch\n",
      "File \u001b[0;32m~/Measuring_RAG_Effectiveness/.venv/lib/python3.11/site-packages/datasets/features/features.py:1352\u001b[0m, in \u001b[0;36mencode_nested_example\u001b[0;34m(schema, obj, level)\u001b[0m\n\u001b[1;32m   1349\u001b[0m \u001b[38;5;66;03m# Object with special encoding:\u001b[39;00m\n\u001b[1;32m   1350\u001b[0m \u001b[38;5;66;03m# ClassLabel will convert from string to int, TranslationVariableLanguages does some checks\u001b[39;00m\n\u001b[1;32m   1351\u001b[0m \u001b[38;5;28;01melif\u001b[39;00m \u001b[38;5;28mhasattr\u001b[39m(schema, \u001b[38;5;124m\"\u001b[39m\u001b[38;5;124mencode_example\u001b[39m\u001b[38;5;124m\"\u001b[39m):\n\u001b[0;32m-> 1352\u001b[0m     \u001b[38;5;28;01mreturn\u001b[39;00m \u001b[43mschema\u001b[49m\u001b[38;5;241;43m.\u001b[39;49m\u001b[43mencode_example\u001b[49m\u001b[43m(\u001b[49m\u001b[43mobj\u001b[49m\u001b[43m)\u001b[49m \u001b[38;5;28;01mif\u001b[39;00m obj \u001b[38;5;129;01mis\u001b[39;00m \u001b[38;5;129;01mnot\u001b[39;00m \u001b[38;5;28;01mNone\u001b[39;00m \u001b[38;5;28;01melse\u001b[39;00m \u001b[38;5;28;01mNone\u001b[39;00m\n\u001b[1;32m   1353\u001b[0m \u001b[38;5;66;03m# Other object should be directly convertible to a native Arrow type (like Translation and Translation)\u001b[39;00m\n\u001b[1;32m   1354\u001b[0m \u001b[38;5;28;01mreturn\u001b[39;00m obj\n",
      "File \u001b[0;32m~/Measuring_RAG_Effectiveness/.venv/lib/python3.11/site-packages/datasets/features/features.py:528\u001b[0m, in \u001b[0;36mValue.encode_example\u001b[0;34m(self, value)\u001b[0m\n\u001b[1;32m    526\u001b[0m     \u001b[38;5;28;01mreturn\u001b[39;00m \u001b[38;5;28mbool\u001b[39m(value)\n\u001b[1;32m    527\u001b[0m \u001b[38;5;28;01melif\u001b[39;00m pa\u001b[38;5;241m.\u001b[39mtypes\u001b[38;5;241m.\u001b[39mis_integer(\u001b[38;5;28mself\u001b[39m\u001b[38;5;241m.\u001b[39mpa_type):\n\u001b[0;32m--> 528\u001b[0m     \u001b[38;5;28;01mreturn\u001b[39;00m \u001b[38;5;28;43mint\u001b[39;49m\u001b[43m(\u001b[49m\u001b[43mvalue\u001b[49m\u001b[43m)\u001b[49m\n\u001b[1;32m    529\u001b[0m \u001b[38;5;28;01melif\u001b[39;00m pa\u001b[38;5;241m.\u001b[39mtypes\u001b[38;5;241m.\u001b[39mis_floating(\u001b[38;5;28mself\u001b[39m\u001b[38;5;241m.\u001b[39mpa_type):\n\u001b[1;32m    530\u001b[0m     \u001b[38;5;28;01mreturn\u001b[39;00m \u001b[38;5;28mfloat\u001b[39m(value)\n",
      "\u001b[0;31mValueError\u001b[0m: invalid literal for int() with base 10: 'The KI Work Environment and Health Award consists of a certificate and 30,000 SEK (Swedish Krona) to use for further joint activities in the workplace to promote health at work. The award is given to"
     ]
    }
   ],
   "source": [
    "results_accuracy = accuracy_metric.compute(references=answers, predictions=predictions_llama_rag)\n",
    "print(results_accuracy)"
   ]
  }
 ],
 "metadata": {
  "kernelspec": {
   "display_name": "Python RAG",
   "language": "python",
   "name": "rag"
  },
  "language_info": {
   "codemirror_mode": {
    "name": "ipython",
    "version": 3
   },
   "file_extension": ".py",
   "mimetype": "text/x-python",
   "name": "python",
   "nbconvert_exporter": "python",
   "pygments_lexer": "ipython3",
   "version": "3.11.5"
  }
 },
 "nbformat": 4,
 "nbformat_minor": 5
}
