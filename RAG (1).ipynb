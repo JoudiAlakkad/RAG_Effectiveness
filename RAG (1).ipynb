{
 "cells": [
  {
   "cell_type": "code",
   "execution_count": 5,
   "id": "8630cc6e",
   "metadata": {},
   "outputs": [],
   "source": [
    "from langchain_community.embeddings.ollama import OllamaEmbeddings\n",
    "from langchain_community.embeddings.bedrock import BedrockEmbeddings\n",
    "\n",
    "\n",
    "def get_embedding_function():\n",
    "    \"\"\"embeddings = BedrockEmbeddings(\n",
    "        credentials_profile_name=\"default\", region_name=\"us-east-1\"\n",
    "    )\"\"\"\n",
    "    embeddings = OllamaEmbeddings(model=\"nomic-embed-text\")\n",
    "    return embeddings"
   ]
  },
  {
   "cell_type": "code",
   "execution_count": 39,
   "id": "d01f6f8e",
   "metadata": {},
   "outputs": [],
   "source": [
    "import os\n",
    "import shutil\n",
    "from langchain.document_loaders.pdf import PyPDFDirectoryLoader\n",
    "from langchain_text_splitters import RecursiveCharacterTextSplitter\n",
    "from langchain.schema.document import Document\n",
    "from langchain.vectorstores.chroma import Chroma\n",
    "import hashlib\n",
    "from langchain.prompts import ChatPromptTemplate\n",
    "from langchain_community.llms.ollama import Ollama"
   ]
  },
  {
   "cell_type": "code",
   "execution_count": 33,
   "id": "5933a8ad",
   "metadata": {},
   "outputs": [],
   "source": [
    "CHROMA_PATH = \"/Users/joudi/Measuring_RAG_Effectiveness/\"\n",
    "DATA_PATH = \"/Users/joudi/Measuring_RAG_Effectiveness/data\""
   ]
  },
  {
   "cell_type": "code",
   "execution_count": 34,
   "id": "5f9f43b3",
   "metadata": {},
   "outputs": [],
   "source": [
    "def load_documents():\n",
    "    document_loader = PyPDFDirectoryLoader(DATA_PATH)\n",
    "    return document_loader.load()\n",
    "\n",
    "def split_documents(documents):\n",
    "    text_splitter = RecursiveCharacterTextSplitter(\n",
    "        chunk_size=800,\n",
    "        chunk_overlap=80,\n",
    "        length_function=len,\n",
    "        is_separator_regex=False,\n",
    "    )\n",
    "    return text_splitter.split_documents(documents)\n",
    "\n",
    "def calculate_chunk_ids(chunks):\n",
    "    #last_page_id = None\n",
    "    #current_chunk_index = 0\n",
    "\n",
    "    for chunk in chunks:\n",
    "        source = chunk.metadata.get(\"source\", \"unknown_source\")\n",
    "        page = chunk.metadata.get(\"page\", \"unknown_page\")\n",
    "        content_hash = hashlib.md5(chunk.page_content.encode(\"utf-8\")).hexdigest()\n",
    "        \n",
    "        # Create a unique ID using source, page, and a hash of the content\n",
    "        chunk_id = f\"{source}:{page}:{content_hash}\"\n",
    "        chunk.metadata[\"id\"] = chunk_id\n",
    "\n",
    "    return chunks\n",
    "\n",
    "def clear_database():\n",
    "    if os.path.exists(CHROMA_PATH):\n",
    "        shutil.rmtree(CHROMA_PATH)\n",
    "\n",
    "def add_to_chroma(chunks):\n",
    "    db = Chroma(\n",
    "        persist_directory=CHROMA_PATH,\n",
    "        embedding_function=get_embedding_function()\n",
    "    )\n",
    "    chunks_with_ids = calculate_chunk_ids(chunks)\n",
    "\n",
    "    existing_items = db.get(include=[])\n",
    "    existing_ids = set(existing_items[\"ids\"])\n",
    "    print(f\"Number of existing documents in DB: {len(existing_ids)}\")\n",
    "\n",
    "    new_chunks = [chunk for chunk in chunks_with_ids if chunk.metadata[\"id\"] not in existing_ids]\n",
    "\n",
    "    if len(new_chunks):\n",
    "        print(f\"👉 Adding new documents: {len(new_chunks)}\")\n",
    "        new_chunk_ids = [chunk.metadata[\"id\"] for chunk in new_chunks]\n",
    "        db.add_documents(new_chunks, ids=new_chunk_ids)\n",
    "        db.persist()\n",
    "        if new_chunks:\n",
    "            db.add_documents(new_chunks, ids=new_chunk_ids)\n",
    "            db.persist()\n",
    "        print(\"✅ Documents successfully added and persisted.\")\n",
    "    else:\n",
    "        print(\"✅ No new documents to add\")\n",
    "\n",
    "def check_num_in_DB(path):\n",
    "    try:\n",
    "        # Load the existing database\n",
    "        db = Chroma(persist_directory=path, embedding_function=get_embedding_function())\n",
    "        existing_items = db.get(include=[])  # Fetch existing document metadata (IDs are always included)\n",
    "        num_existing = len(existing_items[\"ids\"])\n",
    "        print(f\"📊 Number of existing documents in DB: {num_existing}\")\n",
    "        return num_existing\n",
    "    except Exception as e:\n",
    "        print(f\"❌ Error checking existing documents: {e}\")\n",
    "        return 0"
   ]
  },
  {
   "cell_type": "code",
   "execution_count": 37,
   "id": "919bbeec",
   "metadata": {},
   "outputs": [
    {
     "name": "stdout",
     "output_type": "stream",
     "text": [
      "Number of existing documents in DB: 2226\n",
      "✅ No new documents to add\n",
      "📊 Number of existing documents in DB: 2226\n"
     ]
    },
    {
     "data": {
      "text/plain": [
       "2226"
      ]
     },
     "execution_count": 37,
     "metadata": {},
     "output_type": "execute_result"
    }
   ],
   "source": [
    "documents = load_documents()\n",
    "chunks = split_documents(documents)\n",
    "add_to_chroma(chunks)\n",
    "\n",
    "#check_num_in_DB(CHROMA_PATH)"
   ]
  },
  {
   "cell_type": "code",
   "execution_count": 38,
   "id": "6ab3b582",
   "metadata": {},
   "outputs": [],
   "source": [
    "\n",
    "PROMPT_TEMPLATE = \"\"\"\n",
    "Answer the question based only on the following context:\n",
    "\n",
    "{context}\n",
    "\n",
    "---\n",
    "\n",
    "Answer the question based on the above context: {question}\n",
    "\"\"\"\n"
   ]
  },
  {
   "cell_type": "code",
   "execution_count": 43,
   "id": "881f21db",
   "metadata": {},
   "outputs": [],
   "source": [
    "def query_rag(query_text: str):\n",
    "    # Prepare the DB.\n",
    "    embedding_function = get_embedding_function()  \n",
    "    db = Chroma(persist_directory=CHROMA_PATH, embedding_function=embedding_function)\n",
    "\n",
    "    # Search the DB.\n",
    "    results = db.similarity_search_with_score(query_text, k=5)\n",
    "\n",
    "    # Build context text from the top results\n",
    "    context_text = \"\\n\\n---\\n\\n\".join([doc.page_content for doc, _score in results])\n",
    "    \n",
    "    # Format the prompt using the context and the query\n",
    "    prompt_template = ChatPromptTemplate.from_template(PROMPT_TEMPLATE)  \n",
    "    prompt = prompt_template.format(context=context_text, question=query_text)\n",
    "\n",
    "    # Generate the model's response\n",
    "    model = Ollama(model=\"llama3\")  \n",
    "    response_text = model.invoke(prompt)\n",
    "\n",
    "    # Get source document IDs\n",
    "    sources = [doc.metadata.get(\"id\", None) for doc, _score in results]\n",
    "    \n",
    "    # Format the response for output\n",
    "    formatted_response = f\"Response: {response_text}\\nSources: {sources}\"\n",
    "    \n",
    "    # Output the response\n",
    "    print(formatted_response)\n",
    "    \n",
    "    return response_text\n",
    "\n",
    "def query_without_context(query_text: str):\n",
    "    model = Ollama(model=\"llama3\") \n",
    "\n",
    "    # Generate the response from the model, without sending any context\n",
    "    response_text = model.invoke(query_text)\n",
    "\n",
    "    return response_text"
   ]
  },
  {
   "cell_type": "code",
   "execution_count": 49,
   "id": "46e1f644",
   "metadata": {},
   "outputs": [
    {
     "name": "stdout",
     "output_type": "stream",
     "text": [
      "Response: According to the text, understanding Apple's mobile ecosystem is essential because:\n",
      "\n",
      "i) Apple heavily promotes its platform as privacy-oriented using phrases such as “Privacy. That’s Apple” [5], which may lead iOS users to be less concerned about the privacy implications of default apps than Android users.\n",
      "\n",
      "ii) Due to the closed nature of the ecosystem, verifying data handling practices can be challenging.\n",
      "\n",
      "iii) In general, Apple's ecosystem is severely understudied in relevant literature, yet it is very popular.\n",
      "Sources: ['/Users/joudi/Measuring_RAG_Effectiveness/data/Apple privacy of default apps.pdf:3:d9ecc5563b16edf707443f12a490185a', '/Users/joudi/Measuring_RAG_Effectiveness/data/Apple privacy of default apps.pdf:3:ea8014b46b470c41b0a45ecdbd4b9cb4', '/Users/joudi/Measuring_RAG_Effectiveness/data/Apple privacy of default apps.pdf:0:48b208ca16f13234b9bc242f67ae13a1', '/Users/joudi/Measuring_RAG_Effectiveness/data/Apple privacy of default apps.pdf:3:fb9f42e52a1225d6182ab7abcfa6c6a8', '/Users/joudi/Measuring_RAG_Effectiveness/data/Apple privacy of default apps.pdf:3:c9bc88b7e7bcb3652e7fdf681cdc6cca']\n"
     ]
    }
   ],
   "source": [
    "query_text = \"for what reasons are understanding Apple’s mobile ecosystem is essential?\"\n",
    "response = query_rag(query_text)"
   ]
  },
  {
   "cell_type": "code",
   "execution_count": 50,
   "id": "b1838c4b",
   "metadata": {},
   "outputs": [
    {
     "name": "stdout",
     "output_type": "stream",
     "text": [
      "Understanding Apple's mobile ecosystem is essential for several reasons:\n",
      "\n",
      "1. **Dominant Market Share**: Apple has a significant market share in the smartphone industry, with over 50% of the global market share as of 2022. As such, it's crucial to comprehend how their ecosystem functions and how it affects users.\n",
      "2. **Integration and Interoperability**: Apple devices are designed to work seamlessly together, creating an integrated experience across products like iPhones, iPads, MacBooks, and Apple Watches. Understanding this integration is vital for developers and businesses seeking to create compatible solutions.\n",
      "3. **Closed System**: Apple's mobile ecosystem is a closed system, meaning that third-party apps must comply with strict guidelines and policies to ensure quality and security. Familiarity with these requirements can help developers and businesses create compliant products and services.\n",
      "4. **Security and Compliance**: Apple's focus on security and compliance makes it essential for organizations and individuals to understand how their mobile ecosystem handles data protection, encryption, and authentication.\n",
      "5. **Software Updates and Maintenance**: Apple regularly releases software updates for its devices, which can impact compatibility with other products and services. Knowing how these updates work can help developers and businesses ensure their solutions remain compatible and up-to-date.\n",
      "6. **App Store Presence**: The App Store is a crucial part of Apple's mobile ecosystem, offering over 2 million apps to users. Understanding the app development process, review guidelines, and marketing strategies for the App Store can help developers and businesses reach their target audience.\n",
      "7. **Enterprise Mobility Management (EMM)**: As more organizations adopt bring-your-own-device (BYOD) policies or develop mobile-first strategies, understanding Apple's EMM capabilities is essential for managing devices, data, and applications within an organization.\n",
      "8. **Integration with Other Apple Services**: Apple's mobile ecosystem is deeply integrated with other services like iCloud, iMessage, FaceTime, and Siri. Understanding how these services interact can help individuals and businesses optimize their experience across multiple devices.\n",
      "9. **Hardware and Software Ecosystem Interdependencies**: Apple's hardware and software are tightly coupled, which means that changes in one area can impact the other. Knowing how these interdependencies work can help developers and businesses create solutions that seamlessly integrate with Apple products.\n",
      "10. **Innovative Features and Technologies**: Apple is known for introducing innovative features and technologies, such as ARKit, Core ML, and Face ID. Understanding these innovations can help developers and businesses stay ahead of the curve and capitalize on new opportunities.\n",
      "\n",
      "By understanding Apple's mobile ecosystem, you'll be better equipped to:\n",
      "\n",
      "* Develop apps that integrate with Apple devices\n",
      "* Create solutions that take advantage of Apple's innovative features\n",
      "* Manage devices and data within an organization\n",
      "* Optimize your experience across multiple Apple devices\n",
      "* Comply with Apple's policies and guidelines\n",
      "* Stay up-to-date with software updates and maintenance\n",
      "\n",
      "Overall, having a deep understanding of Apple's mobile ecosystem is essential for anyone looking to develop, market, or manage products and services that interact with Apple devices.\n"
     ]
    }
   ],
   "source": [
    "print(query_without_context(query_text))"
   ]
  }
 ],
 "metadata": {
  "kernelspec": {
   "display_name": ".venv",
   "language": "python",
   "name": "python3"
  },
  "language_info": {
   "codemirror_mode": {
    "name": "ipython",
    "version": 3
   },
   "file_extension": ".py",
   "mimetype": "text/x-python",
   "name": "python",
   "nbconvert_exporter": "python",
   "pygments_lexer": "ipython3",
   "version": "3.11.5"
  }
 },
 "nbformat": 4,
 "nbformat_minor": 5
}
