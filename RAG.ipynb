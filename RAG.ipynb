{
 "cells": [
  {
   "cell_type": "code",
   "execution_count": 5,
   "id": "8630cc6e",
   "metadata": {},
   "outputs": [],
   "source": [
    "from langchain_community.embeddings.bedrock import BedrockEmbeddings"
   ]
  },
  {
   "cell_type": "code",
   "execution_count": 1,
   "id": "d01f6f8e",
   "metadata": {},
   "outputs": [],
   "source": [
    "import os\n",
    "import shutil\n",
    "from langchain.document_loaders.pdf import PyPDFDirectoryLoader\n",
    "from langchain_text_splitters import RecursiveCharacterTextSplitter\n",
    "from langchain.schema.document import Document\n",
    "from langchain.vectorstores.chroma import Chroma\n",
    "import hashlib\n",
    "from langchain.prompts import ChatPromptTemplate\n",
    "from langchain_community.llms.ollama import Ollama\n",
    "from langchain_community.embeddings.ollama import OllamaEmbeddings\n"
   ]
  },
  {
   "cell_type": "code",
   "execution_count": 2,
   "id": "5933a8ad",
   "metadata": {},
   "outputs": [],
   "source": [
    "CHROMA_PATH = \"/Users/joudi/Measuring_RAG_Effectiveness/\"\n",
    "DATA_PATH = \"/Users/joudi/Measuring_RAG_Effectiveness/data\"\n",
    "\n",
    "def get_embedding_function():\n",
    "    embeddings = OllamaEmbeddings(model=\"nomic-embed-text\")\n",
    "    return embeddings"
   ]
  },
  {
   "cell_type": "code",
   "execution_count": 4,
   "id": "5f9f43b3",
   "metadata": {},
   "outputs": [],
   "source": [
    "def load_documents():\n",
    "    document_loader = PyPDFDirectoryLoader(DATA_PATH)\n",
    "    return document_loader.load()\n",
    "\n",
    "def split_documents(documents):\n",
    "    text_splitter = RecursiveCharacterTextSplitter(\n",
    "        chunk_size=800,\n",
    "        chunk_overlap=80,\n",
    "        length_function=len,\n",
    "        is_separator_regex=False,\n",
    "    )\n",
    "    return text_splitter.split_documents(documents)\n",
    "\n",
    "def calculate_chunk_ids(chunks):\n",
    "    #last_page_id = None\n",
    "    #current_chunk_index = 0\n",
    "\n",
    "    for chunk in chunks:\n",
    "        source = chunk.metadata.get(\"source\", \"unknown_source\")\n",
    "        page = chunk.metadata.get(\"page\", \"unknown_page\")\n",
    "        content_hash = hashlib.md5(chunk.page_content.encode(\"utf-8\")).hexdigest()\n",
    "        \n",
    "        # Create a unique ID using source, page, and a hash of the content\n",
    "        chunk_id = f\"{source}:{page}:{content_hash}\"\n",
    "        chunk.metadata[\"id\"] = chunk_id\n",
    "\n",
    "    return chunks\n",
    "\n",
    "def clear_database():\n",
    "    if os.path.exists(CHROMA_PATH):\n",
    "        shutil.rmtree(CHROMA_PATH)\n",
    "\n",
    "def add_to_chroma(chunks):\n",
    "    db = Chroma(\n",
    "        persist_directory=CHROMA_PATH,\n",
    "        embedding_function=get_embedding_function()\n",
    "    )\n",
    "    chunks_with_ids = calculate_chunk_ids(chunks)\n",
    "\n",
    "    existing_items = db.get(include=[])\n",
    "    existing_ids = set(existing_items[\"ids\"])\n",
    "    print(f\"Number of existing documents in DB: {len(existing_ids)}\")\n",
    "\n",
    "    new_chunks = [chunk for chunk in chunks_with_ids if chunk.metadata[\"id\"] not in existing_ids]\n",
    "\n",
    "    if len(new_chunks):\n",
    "        print(f\"👉 Adding new documents: {len(new_chunks)}\")\n",
    "        new_chunk_ids = [chunk.metadata[\"id\"] for chunk in new_chunks]\n",
    "        db.add_documents(new_chunks, ids=new_chunk_ids)\n",
    "        db.persist()\n",
    "        if new_chunks:\n",
    "            db.add_documents(new_chunks, ids=new_chunk_ids)\n",
    "            db.persist()\n",
    "        print(\"✅ Documents successfully added and persisted.\")\n",
    "    else:\n",
    "        print(\"✅ No new documents to add\")\n",
    "\n",
    "def check_num_in_DB(path):\n",
    "    try:\n",
    "        # Load the existing database\n",
    "        db = Chroma(persist_directory=path, embedding_function=get_embedding_function())\n",
    "        existing_items = db.get(include=[])  # Fetch existing document metadata (IDs are always included)\n",
    "        num_existing = len(existing_items[\"ids\"])\n",
    "        print(f\"📊 Number of existing documents in DB: {num_existing}\")\n",
    "        return num_existing\n",
    "    except Exception as e:\n",
    "        print(f\"❌ Error checking existing documents: {e}\")\n",
    "        return 0"
   ]
  },
  {
   "cell_type": "code",
   "execution_count": 5,
   "id": "919bbeec",
   "metadata": {},
   "outputs": [
    {
     "name": "stdout",
     "output_type": "stream",
     "text": [
      "Number of existing documents in DB: 2226\n",
      "✅ No new documents to add\n"
     ]
    }
   ],
   "source": [
    "documents = load_documents()\n",
    "chunks = split_documents(documents)\n",
    "add_to_chroma(chunks)\n",
    "\n",
    "#check_num_in_DB(CHROMA_PATH)"
   ]
  },
  {
   "cell_type": "code",
   "execution_count": 6,
   "id": "6ab3b582",
   "metadata": {},
   "outputs": [],
   "source": [
    "\n",
    "PROMPT_TEMPLATE = \"\"\"\n",
    "Answer the question based only on the following context:\n",
    "\n",
    "{context}\n",
    "\n",
    "---\n",
    "\n",
    "Answer the question based on the above context: {question}\n",
    "\"\"\"\n"
   ]
  },
  {
   "cell_type": "code",
   "execution_count": 11,
   "id": "881f21db",
   "metadata": {},
   "outputs": [],
   "source": [
    "def query_rag(query_text: str):\n",
    "    # get the DB.\n",
    "    embedding_function = get_embedding_function()  \n",
    "    db = Chroma(persist_directory=CHROMA_PATH, embedding_function=embedding_function)\n",
    "\n",
    "    # Search the DB.\n",
    "    results = db.similarity_search_with_score(query_text, k=5)\n",
    "\n",
    "    # Build context text from the top results\n",
    "    context_text = \"\\n\\n---\\n\\n\".join([doc.page_content for doc, _score in results])\n",
    "    \n",
    "    # Format the prompt using the context and the query\n",
    "    prompt_template = ChatPromptTemplate.from_template(PROMPT_TEMPLATE)  \n",
    "    prompt = prompt_template.format(context=context_text, question=query_text)\n",
    "\n",
    "    # Generate the model's response\n",
    "    model = Ollama(model=\"llama3\")  \n",
    "    response_text = model.invoke(prompt)\n",
    "\n",
    "    # Get source document IDs\n",
    "    sources = [doc.metadata.get(\"id\", None) for doc, _score in results]\n",
    "    \n",
    "    # Format the response for output\n",
    "    formatted_response = f\"Response: {response_text}\\nSources: {sources}\"\n",
    "    \n",
    "    # Output the response\n",
    "    print(formatted_response)\n",
    "    \n",
    "    return response_text\n",
    "\n",
    "def query_without_context(query_text: str):\n",
    "    model = Ollama(model=\"llama3\") \n",
    "\n",
    "    # Generate the response from the model, without sending any context\n",
    "    response_text = model.invoke(query_text)\n",
    "\n",
    "    return response_text"
   ]
  },
  {
   "cell_type": "code",
   "execution_count": 14,
   "id": "46e1f644",
   "metadata": {},
   "outputs": [
    {
     "name": "stdout",
     "output_type": "stream",
     "text": [
      "Response: Based on the provided context, here are some improvements that cellphones and associated apps have brought to society:\n",
      "\n",
      "* Simplified user interfaces for faster device adoption\n",
      "* Pre-installed mobile applications (default apps) that provide various features such as messaging, video calls, location services, and fingerprint recognition\n",
      "* Ability to share devices with family members or others\n",
      "\n",
      "However, the context also highlights some serious concerns that have arisen with the use of cellphones and apps:\n",
      "\n",
      "* Lack of understanding among users about installation-time settings and their privacy implications\n",
      "* Potential ongoing ramifications for user privacy during the entire life-cycle of the device\n",
      "* Concerns around default apps logging user interactions and uploading data to servers, revealing personal habits and behaviors over time\n",
      "* Issues with default app descriptions and settings not changing despite updates\n",
      "* Distrust and tension may arise from various social contexts and norms in which technologies operate\n",
      "Sources: ['/Users/joudi/Measuring_RAG_Effectiveness/data/Apple privacy of default apps.pdf:3:d9ecc5563b16edf707443f12a490185a', '/Users/joudi/Measuring_RAG_Effectiveness/data/Apple privacy of default apps.pdf:11:d07ef653c09849b84d91c55cdf9267e5', '/Users/joudi/Measuring_RAG_Effectiveness/data/A Scoring System for Assessing Security and Privacy Risks of Pre Installed Applications.pdf:1:ee2d585390a4b5dd1ac8eacb9b879a81', '/Users/joudi/Measuring_RAG_Effectiveness/data/Android Mobile OS Snooping By Samsung, Xiaomi, Huawei and Realme Handsets.pdf:1:36b64f2a0ca16887568f08823e88a7fc', '/Users/joudi/Measuring_RAG_Effectiveness/data/Apple privacy of default apps.pdf:1:71121211e2044a9de09883260e11a595']\n"
     ]
    }
   ],
   "source": [
    "query_text = \"What improvements have cellphones and associated apps brought to society and what serious concerns have arisen with the use of cellphones and apps?\"\n",
    "response_rag = query_rag(query_text)\n",
    "#print(response_rag)"
   ]
  },
  {
   "cell_type": "code",
   "execution_count": 15,
   "id": "b1838c4b",
   "metadata": {},
   "outputs": [
    {
     "name": "stdout",
     "output_type": "stream",
     "text": [
      "Cellphones and associated apps have brought numerous benefits and improvements to society, but they have also raised several serious concerns. Here are some examples:\n",
      "\n",
      "**Improvements:**\n",
      "\n",
      "1. **Global connectivity**: Cellphones have made it possible for people to stay connected with friends, family, and colleagues across the globe.\n",
      "2. **Information access**: With the internet at their fingertips, people can access vast amounts of information, learn new things, and make informed decisions.\n",
      "3. **Convenience**: Cellphones have simplified many aspects of daily life, such as banking, shopping, and communication.\n",
      "4. **Healthcare**: Mobile health (mHealth) apps have enabled remote healthcare services, telemedicine, and patient monitoring.\n",
      "5. **Education**: Educational apps and online resources have made learning more accessible, engaging, and effective.\n",
      "6. **Business**: Cellphones have transformed the way businesses operate, with mobile commerce, payment systems, and productivity tools.\n",
      "\n",
      "**Concerns:**\n",
      "\n",
      "1. **Addiction**: Excessive phone use can lead to addiction, social isolation, and decreased attention span.\n",
      "2. **Mental health**: The constant stream of notifications, social media pressure, and FOMO (fear of missing out) can contribute to anxiety, depression, and stress.\n",
      "3. **Physical health**: Prolonged screen time has been linked to eye strain, headaches, and poor posture.\n",
      "4. **Privacy and security**: The collection and misuse of personal data, cyberbullying, and online harassment are serious concerns.\n",
      "5. **Social skills**: Over-reliance on cellphones can lead to poor social skills, such as difficulty maintaining face-to-face conversations.\n",
      "6. **Sleep disruption**: Exposure to blue light from screens before bed can interfere with sleep patterns and overall well-being.\n",
      "7. **Distractions**: Cellphones can be significant distractions in settings like classrooms, meetings, or while driving, leading to decreased productivity and increased risk of accidents.\n",
      "8. **Social comparison**: Social media apps can fuel unrealistic expectations and promote unhealthy comparisons, contributing to low self-esteem and body dissatisfaction.\n",
      "9. **Online harassment**: The anonymity of the internet can lead to bullying, cyberstalking, and other forms of online abuse.\n",
      "10. **Addiction to notifications**: Constantly checking phones for notifications can create a sense of constant stress and anxiety.\n",
      "\n",
      "To mitigate these concerns, it's essential to establish healthy phone use habits, such as:\n",
      "\n",
      "* Setting boundaries around phone use\n",
      "* Practicing digital etiquette and responsibility\n",
      "* Monitoring screen time and setting limits\n",
      "* Using apps that promote mindfulness, meditation, or relaxation\n",
      "* Engaging in physical activities and outdoor pursuits\n",
      "* Prioritizing face-to-face interactions and social connections\n",
      "\n",
      "By acknowledging both the benefits and concerns of cellphone use, we can strive to create a more balanced and responsible relationship with our devices.\n"
     ]
    }
   ],
   "source": [
    "response_without = query_without_context(query_text)\n",
    "print(response_without)"
   ]
  }
 ],
 "metadata": {
  "kernelspec": {
   "display_name": ".venv",
   "language": "python",
   "name": "python3"
  },
  "language_info": {
   "codemirror_mode": {
    "name": "ipython",
    "version": 3
   },
   "file_extension": ".py",
   "mimetype": "text/x-python",
   "name": "python",
   "nbconvert_exporter": "python",
   "pygments_lexer": "ipython3",
   "version": "3.11.5"
  }
 },
 "nbformat": 4,
 "nbformat_minor": 5
}
